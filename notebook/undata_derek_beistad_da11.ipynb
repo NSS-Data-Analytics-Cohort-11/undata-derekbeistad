{
 "cells": [
  {
   "cell_type": "markdown",
   "id": "6281d2d8-3d85-4b74-b4bc-8a9a04d7f85b",
   "metadata": {},
   "source": [
    "## Imports"
   ]
  },
  {
   "cell_type": "code",
   "execution_count": 1,
   "id": "f904d0d8-5ef2-46e3-9b84-453f291fb52b",
   "metadata": {},
   "outputs": [],
   "source": [
    "import pandas as pd\n",
    "import numpy as np\n",
    "import matplotlib.pyplot as plt\n",
    "import seaborn as sns"
   ]
  },
  {
   "cell_type": "markdown",
   "id": "30e7db2c-748b-41df-9982-dd80117be9a4",
   "metadata": {},
   "source": [
    "# 4) Load data\n",
    "#### Top 5 rows"
   ]
  },
  {
   "cell_type": "code",
   "execution_count": 2,
   "id": "348b3867-c32c-411e-a6e7-dd4a76232379",
   "metadata": {
    "scrolled": true
   },
   "outputs": [
    {
     "data": {
      "text/html": [
       "<div>\n",
       "<style scoped>\n",
       "    .dataframe tbody tr th:only-of-type {\n",
       "        vertical-align: middle;\n",
       "    }\n",
       "\n",
       "    .dataframe tbody tr th {\n",
       "        vertical-align: top;\n",
       "    }\n",
       "\n",
       "    .dataframe thead th {\n",
       "        text-align: right;\n",
       "    }\n",
       "</style>\n",
       "<table border=\"1\" class=\"dataframe\">\n",
       "  <thead>\n",
       "    <tr style=\"text-align: right;\">\n",
       "      <th></th>\n",
       "      <th>Country or Area</th>\n",
       "      <th>Year</th>\n",
       "      <th>Value</th>\n",
       "      <th>Value Footnotes</th>\n",
       "    </tr>\n",
       "  </thead>\n",
       "  <tbody>\n",
       "    <tr>\n",
       "      <th>0</th>\n",
       "      <td>Afghanistan</td>\n",
       "      <td>2021</td>\n",
       "      <td>1517.016266</td>\n",
       "      <td>NaN</td>\n",
       "    </tr>\n",
       "    <tr>\n",
       "      <th>1</th>\n",
       "      <td>Afghanistan</td>\n",
       "      <td>2020</td>\n",
       "      <td>1968.341002</td>\n",
       "      <td>NaN</td>\n",
       "    </tr>\n",
       "    <tr>\n",
       "      <th>2</th>\n",
       "      <td>Afghanistan</td>\n",
       "      <td>2019</td>\n",
       "      <td>2079.921861</td>\n",
       "      <td>NaN</td>\n",
       "    </tr>\n",
       "    <tr>\n",
       "      <th>3</th>\n",
       "      <td>Afghanistan</td>\n",
       "      <td>2018</td>\n",
       "      <td>2060.698973</td>\n",
       "      <td>NaN</td>\n",
       "    </tr>\n",
       "    <tr>\n",
       "      <th>4</th>\n",
       "      <td>Afghanistan</td>\n",
       "      <td>2017</td>\n",
       "      <td>2096.093111</td>\n",
       "      <td>NaN</td>\n",
       "    </tr>\n",
       "  </tbody>\n",
       "</table>\n",
       "</div>"
      ],
      "text/plain": [
       "  Country or Area  Year        Value  Value Footnotes\n",
       "0     Afghanistan  2021  1517.016266              NaN\n",
       "1     Afghanistan  2020  1968.341002              NaN\n",
       "2     Afghanistan  2019  2079.921861              NaN\n",
       "3     Afghanistan  2018  2060.698973              NaN\n",
       "4     Afghanistan  2017  2096.093111              NaN"
      ]
     },
     "execution_count": 2,
     "metadata": {},
     "output_type": "execute_result"
    }
   ],
   "source": [
    "gdp_df = pd.read_csv(\"../data/gdp_percapita.csv\")\n",
    "gdp_df.head()"
   ]
  },
  {
   "cell_type": "markdown",
   "id": "52a78432-6d3a-4421-9f7f-bb41591b425b",
   "metadata": {},
   "source": [
    "#### bottom 5 rows"
   ]
  },
  {
   "cell_type": "code",
   "execution_count": 3,
   "id": "f02b5984-0449-4e55-9d50-7cca82bec7e7",
   "metadata": {
    "scrolled": true
   },
   "outputs": [
    {
     "data": {
      "text/html": [
       "<div>\n",
       "<style scoped>\n",
       "    .dataframe tbody tr th:only-of-type {\n",
       "        vertical-align: middle;\n",
       "    }\n",
       "\n",
       "    .dataframe tbody tr th {\n",
       "        vertical-align: top;\n",
       "    }\n",
       "\n",
       "    .dataframe thead th {\n",
       "        text-align: right;\n",
       "    }\n",
       "</style>\n",
       "<table border=\"1\" class=\"dataframe\">\n",
       "  <thead>\n",
       "    <tr style=\"text-align: right;\">\n",
       "      <th></th>\n",
       "      <th>Country or Area</th>\n",
       "      <th>Year</th>\n",
       "      <th>Value</th>\n",
       "      <th>Value Footnotes</th>\n",
       "    </tr>\n",
       "  </thead>\n",
       "  <tbody>\n",
       "    <tr>\n",
       "      <th>7657</th>\n",
       "      <td>Zimbabwe</td>\n",
       "      <td>1994</td>\n",
       "      <td>2670.106615</td>\n",
       "      <td>NaN</td>\n",
       "    </tr>\n",
       "    <tr>\n",
       "      <th>7658</th>\n",
       "      <td>Zimbabwe</td>\n",
       "      <td>1993</td>\n",
       "      <td>2458.783255</td>\n",
       "      <td>NaN</td>\n",
       "    </tr>\n",
       "    <tr>\n",
       "      <th>7659</th>\n",
       "      <td>Zimbabwe</td>\n",
       "      <td>1992</td>\n",
       "      <td>2468.278257</td>\n",
       "      <td>NaN</td>\n",
       "    </tr>\n",
       "    <tr>\n",
       "      <th>7660</th>\n",
       "      <td>Zimbabwe</td>\n",
       "      <td>1991</td>\n",
       "      <td>2781.787843</td>\n",
       "      <td>NaN</td>\n",
       "    </tr>\n",
       "    <tr>\n",
       "      <th>7661</th>\n",
       "      <td>Zimbabwe</td>\n",
       "      <td>1990</td>\n",
       "      <td>2704.757299</td>\n",
       "      <td>NaN</td>\n",
       "    </tr>\n",
       "  </tbody>\n",
       "</table>\n",
       "</div>"
      ],
      "text/plain": [
       "     Country or Area  Year        Value  Value Footnotes\n",
       "7657        Zimbabwe  1994  2670.106615              NaN\n",
       "7658        Zimbabwe  1993  2458.783255              NaN\n",
       "7659        Zimbabwe  1992  2468.278257              NaN\n",
       "7660        Zimbabwe  1991  2781.787843              NaN\n",
       "7661        Zimbabwe  1990  2704.757299              NaN"
      ]
     },
     "execution_count": 3,
     "metadata": {},
     "output_type": "execute_result"
    }
   ],
   "source": [
    "gdp_df.tail()"
   ]
  },
  {
   "cell_type": "markdown",
   "id": "ecf0f892-67d8-4432-ac16-f46fbfcdd4fa",
   "metadata": {},
   "source": [
    "# 5) gdp_df INFO"
   ]
  },
  {
   "cell_type": "code",
   "execution_count": 4,
   "id": "fc4a4d53-d4cb-4e61-9ecd-482975d61b2e",
   "metadata": {},
   "outputs": [
    {
     "name": "stdout",
     "output_type": "stream",
     "text": [
      "<class 'pandas.core.frame.DataFrame'>\n",
      "RangeIndex: 7662 entries, 0 to 7661\n",
      "Data columns (total 4 columns):\n",
      " #   Column           Non-Null Count  Dtype  \n",
      "---  ------           --------------  -----  \n",
      " 0   Country or Area  7662 non-null   object \n",
      " 1   Year             7662 non-null   int64  \n",
      " 2   Value            7662 non-null   float64\n",
      " 3   Value Footnotes  0 non-null      float64\n",
      "dtypes: float64(2), int64(1), object(1)\n",
      "memory usage: 239.6+ KB\n"
     ]
    }
   ],
   "source": [
    "gdp_df.info()"
   ]
  },
  {
   "cell_type": "markdown",
   "id": "107b97a9-0420-4215-9741-d6d2cf6fa457",
   "metadata": {},
   "source": [
    "# 6) Drop the Value Footnotes column and rename"
   ]
  },
  {
   "cell_type": "code",
   "execution_count": 5,
   "id": "9fcd4ede-5a06-44df-b8ad-4ccf25f8ba99",
   "metadata": {},
   "outputs": [
    {
     "name": "stdout",
     "output_type": "stream",
     "text": [
      "<class 'pandas.core.frame.DataFrame'>\n",
      "RangeIndex: 7662 entries, 0 to 7661\n",
      "Data columns (total 3 columns):\n",
      " #   Column          Non-Null Count  Dtype  \n",
      "---  ------          --------------  -----  \n",
      " 0   Country         7662 non-null   object \n",
      " 1   Year            7662 non-null   int64  \n",
      " 2   GDP_Per_Capita  7662 non-null   float64\n",
      "dtypes: float64(1), int64(1), object(1)\n",
      "memory usage: 179.7+ KB\n"
     ]
    }
   ],
   "source": [
    "gdp_df_clean = gdp_df.drop('Value Footnotes', axis=1)\n",
    "gdp_df_clean = gdp_df_clean.rename(columns={'Country or Area': 'Country', 'Value': 'GDP_Per_Capita'})\n",
    "gdp_df_clean.info()"
   ]
  },
  {
   "cell_type": "markdown",
   "id": "3863183a-506f-4283-95c6-d583b979b097",
   "metadata": {},
   "source": [
    "# 7)How many countries have data for all years? Which countries are missing many years of data?"
   ]
  },
  {
   "cell_type": "code",
   "execution_count": 6,
   "id": "5d6233ad-d4e3-4f22-9f91-5e83c86d242c",
   "metadata": {},
   "outputs": [
    {
     "name": "stdout",
     "output_type": "stream",
     "text": [
      "Total number of years: 33\n"
     ]
    }
   ],
   "source": [
    "gdp_df_clean['Year'].agg(['min', 'max'])\n",
    "num_years = gdp_df_clean['Year'].max() +1  - gdp_df_clean['Year'].min()\n",
    "print('Total number of years: ' + str(num_years))"
   ]
  },
  {
   "cell_type": "code",
   "execution_count": 7,
   "id": "e8b2cf4a-3dd1-4497-abd3-52f95bfa06ed",
   "metadata": {},
   "outputs": [],
   "source": [
    "countries_year_count = gdp_df_clean['Country'].value_counts().reset_index()"
   ]
  },
  {
   "cell_type": "code",
   "execution_count": 8,
   "id": "f2ac67c4-4979-4d84-8d0a-44df946ab359",
   "metadata": {},
   "outputs": [
    {
     "name": "stdout",
     "output_type": "stream",
     "text": [
      "202 have data for all years\n",
      "40 do not have data for all years\n"
     ]
    }
   ],
   "source": [
    "n = 0\n",
    "m = 0\n",
    "for year_count in countries_year_count['count']:\n",
    "    if year_count == num_years:\n",
    "        n += 1\n",
    "    else:\n",
    "        m += 1\n",
    "print(str(n) + ' have data for all years')\n",
    "print(str(m) + ' do not have data for all years')"
   ]
  },
  {
   "cell_type": "markdown",
   "id": "434a49a3-22b0-4029-8fcf-b097c1fb8e58",
   "metadata": {},
   "source": [
    "#### 202 have data for all years  \n",
    "40 do not have data for all years"
   ]
  },
  {
   "cell_type": "code",
   "execution_count": 9,
   "id": "fac8e9e5-568e-4e26-9802-f89be993d67f",
   "metadata": {},
   "outputs": [],
   "source": [
    "countries_all_years = pd.array(countries_year_count[countries_year_count['count'] == num_years]['Country'])\n",
    "countries_missing_years = pd.array(countries_year_count[countries_year_count['count'] != num_years]['Country'])"
   ]
  },
  {
   "cell_type": "markdown",
   "id": "7b527be4-71a1-4112-bdcd-96286cfc3b6b",
   "metadata": {},
   "source": [
    "#### Num of Countries with all years"
   ]
  },
  {
   "cell_type": "code",
   "execution_count": 10,
   "id": "ea0952b3-f149-4408-ae08-30b3b8d93bee",
   "metadata": {},
   "outputs": [
    {
     "data": {
      "text/plain": [
       "202"
      ]
     },
     "execution_count": 10,
     "metadata": {},
     "output_type": "execute_result"
    }
   ],
   "source": [
    "len(countries_all_years)"
   ]
  },
  {
   "cell_type": "markdown",
   "id": "ff82daa7-7345-475f-b1bb-7b600e9ae02c",
   "metadata": {},
   "source": [
    "#### Num of Countries missing years"
   ]
  },
  {
   "cell_type": "code",
   "execution_count": 11,
   "id": "855be308-82dc-4a63-8855-2107239d5b17",
   "metadata": {},
   "outputs": [
    {
     "data": {
      "text/plain": [
       "40"
      ]
     },
     "execution_count": 11,
     "metadata": {},
     "output_type": "execute_result"
    }
   ],
   "source": [
    "len(countries_missing_years)"
   ]
  },
  {
   "cell_type": "markdown",
   "id": "f6615dad-75c5-40b0-ac30-762a69c0c2c8",
   "metadata": {},
   "source": [
    "#### List of Countries with all years"
   ]
  },
  {
   "cell_type": "code",
   "execution_count": 12,
   "id": "c0a24105-127f-4a80-b842-a664228ef15d",
   "metadata": {},
   "outputs": [],
   "source": [
    "# countries_all_years"
   ]
  },
  {
   "cell_type": "markdown",
   "id": "bccb6fbb-f159-4c0f-8d23-790c56b78032",
   "metadata": {},
   "source": [
    "#### List of Countries missing years"
   ]
  },
  {
   "cell_type": "code",
   "execution_count": 13,
   "id": "758a9857-92c2-4f4e-b24f-7bc58c421415",
   "metadata": {},
   "outputs": [],
   "source": [
    "# countries_missing_years"
   ]
  },
  {
   "cell_type": "markdown",
   "id": "a55605d1-b287-44ed-8a78-866b37737f7d",
   "metadata": {},
   "source": [
    "# 8)  create some plots to show the distribution of GDP per capita for the year 2020"
   ]
  },
  {
   "cell_type": "markdown",
   "id": "c81365cf-5e54-438e-8bcb-7d996c63ab74",
   "metadata": {},
   "source": [
    "###  Create a histogram, a density plot, a boxplot, and a violin plotZ"
   ]
  },
  {
   "cell_type": "code",
   "execution_count": 14,
   "id": "e2ecb166-a81f-4ed9-ac4e-947b73cbefda",
   "metadata": {},
   "outputs": [],
   "source": [
    "gdp_2020 = gdp_df_clean[gdp_df_clean['Year'] == 2020]"
   ]
  },
  {
   "cell_type": "markdown",
   "id": "6aa3162b-9e87-4f5d-93d2-1d512483d1df",
   "metadata": {},
   "source": [
    "#### Histogram"
   ]
  },
  {
   "cell_type": "code",
   "execution_count": 15,
   "id": "cdf3eac3-b81b-4a1e-9a4d-363dd85bc4d7",
   "metadata": {},
   "outputs": [
    {
     "name": "stderr",
     "output_type": "stream",
     "text": [
      "C:\\Users\\derek\\anaconda3\\Lib\\site-packages\\seaborn\\_oldcore.py:1119: FutureWarning: use_inf_as_na option is deprecated and will be removed in a future version. Convert inf values to NaN before operating instead.\n",
      "  with pd.option_context('mode.use_inf_as_na', True):\n"
     ]
    },
    {
     "data": {
      "text/plain": [
       "<seaborn.axisgrid.FacetGrid at 0x15230a2bb50>"
      ]
     },
     "execution_count": 15,
     "metadata": {},
     "output_type": "execute_result"
    },
    {
     "data": {
      "image/png": "[encoded data removed]",
      "text/plain": [
       "<Figure size 500x500 with 1 Axes>"
      ]
     },
     "metadata": {},
     "output_type": "display_data"
    }
   ],
   "source": [
    "# Plot the histogram thanks to the displot function\n",
    "\n",
    "sns.displot( data=gdp_2020['GDP_Per_Capita'],\n",
    "            kde=True )"
   ]
  },
  {
   "cell_type": "markdown",
   "id": "52959bc9-a7e3-432a-aaa5-622dd75e23b3",
   "metadata": {},
   "source": [
    "#### Density Plot"
   ]
  },
  {
   "cell_type": "code",
   "execution_count": 16,
   "id": "14eaddee-53e0-4ce1-8c22-bcbe00a912a8",
   "metadata": {},
   "outputs": [
    {
     "name": "stderr",
     "output_type": "stream",
     "text": [
      "C:\\Users\\derek\\anaconda3\\Lib\\site-packages\\seaborn\\_oldcore.py:1119: FutureWarning: use_inf_as_na option is deprecated and will be removed in a future version. Convert inf values to NaN before operating instead.\n",
      "  with pd.option_context('mode.use_inf_as_na', True):\n"
     ]
    },
    {
     "data": {
      "text/plain": [
       "<Axes: xlabel='GDP_Per_Capita', ylabel='Density'>"
      ]
     },
     "execution_count": 16,
     "metadata": {},
     "output_type": "execute_result"
    },
    {
     "data": {
      "image/png": "[encoded data removed]",
      "text/plain": [
       "<Figure size 640x480 with 1 Axes>"
      ]
     },
     "metadata": {},
     "output_type": "display_data"
    }
   ],
   "source": [
    "sns.kdeplot(gdp_2020['GDP_Per_Capita'],\n",
    "            fill=True)"
   ]
  },
  {
   "cell_type": "markdown",
   "id": "ebccd22e-0d5f-4d12-9bf1-7906b68ed5c4",
   "metadata": {},
   "source": [
    "#### Box Plot"
   ]
  },
  {
   "cell_type": "code",
   "execution_count": 17,
   "id": "36dda8c0-b35a-4a1f-a93f-39b89bf8c896",
   "metadata": {},
   "outputs": [
    {
     "data": {
      "text/plain": [
       "<Axes: ylabel='GDP_Per_Capita'>"
      ]
     },
     "execution_count": 17,
     "metadata": {},
     "output_type": "execute_result"
    },
    {
     "data": {
      "image/png": "[encoded data removed]",
      "text/plain": [
       "<Figure size 640x480 with 1 Axes>"
      ]
     },
     "metadata": {},
     "output_type": "display_data"
    }
   ],
   "source": [
    "sns.boxplot(y=gdp_2020['GDP_Per_Capita'])"
   ]
  },
  {
   "cell_type": "markdown",
   "id": "991e6276-8e80-4510-ac30-07602c09ed5f",
   "metadata": {},
   "source": [
    "#### Violin Plot"
   ]
  },
  {
   "cell_type": "code",
   "execution_count": 18,
   "id": "c7e2ef9e-ecbf-43e6-87f0-111f81deb542",
   "metadata": {},
   "outputs": [
    {
     "data": {
      "text/plain": [
       "<Axes: ylabel='GDP_Per_Capita'>"
      ]
     },
     "execution_count": 18,
     "metadata": {},
     "output_type": "execute_result"
    },
    {
     "data": {
      "image/png": "[encoded data removed]",
      "text/plain": [
       "<Figure size 640x480 with 1 Axes>"
      ]
     },
     "metadata": {},
     "output_type": "display_data"
    }
   ],
   "source": [
    "sns.violinplot(y=gdp_2020['GDP_Per_Capita'])"
   ]
  },
  {
   "cell_type": "markdown",
   "id": "eb6290ba-9c54-43e5-8b71-ef074e87685e",
   "metadata": {},
   "source": [
    "### These plots all show the same information in different ways."
   ]
  },
  {
   "cell_type": "markdown",
   "id": "ef25376e-972b-4cf9-93a3-98a45a746f1a",
   "metadata": {},
   "source": [
    "### a vast majority of the GDP's are below 20,000"
   ]
  },
  {
   "cell_type": "markdown",
   "id": "510d5f60-041c-4588-af93-ff049e805478",
   "metadata": {},
   "source": [
    "# 9) What was the median GDP per capita value in 2020?"
   ]
  },
  {
   "cell_type": "code",
   "execution_count": 19,
   "id": "9d8c7980-53cf-4860-b183-7e2e591a00d7",
   "metadata": {},
   "outputs": [
    {
     "data": {
      "text/plain": [
       "13358.0"
      ]
     },
     "execution_count": 19,
     "metadata": {},
     "output_type": "execute_result"
    }
   ],
   "source": [
    "round(gdp_2020['GDP_Per_Capita'].median(), 2)"
   ]
  },
  {
   "cell_type": "markdown",
   "id": "af2334a9-e630-4c35-9a46-861b32d0c7ad",
   "metadata": {},
   "source": [
    "## 10) Compare GDP per capita values for the years 1990, 2000, 2010, and 2020. Start by subsetting your data to just these 4 years into a new DataFrame named gdp_decades. Using this, create the following 4 plots:"
   ]
  },
  {
   "cell_type": "code",
   "execution_count": 20,
   "id": "6e164c1e-ee40-4ca2-b643-1b4d18309a3a",
   "metadata": {},
   "outputs": [],
   "source": [
    "gdp_decades = gdp_df_clean[gdp_df_clean['Year'].isin([1990, 2000, 2010, 2020])]"
   ]
  },
  {
   "cell_type": "markdown",
   "id": "7d16c47d-b5a4-4c78-92d8-0da2956ed793",
   "metadata": {},
   "source": [
    "#### Boxplot"
   ]
  },
  {
   "cell_type": "code",
   "execution_count": 21,
   "id": "53b7f72b-a826-4375-84f5-58c400a7ceb7",
   "metadata": {},
   "outputs": [
    {
     "data": {
      "text/plain": [
       "<Axes: xlabel='Year', ylabel='GDP_Per_Capita'>"
      ]
     },
     "execution_count": 21,
     "metadata": {},
     "output_type": "execute_result"
    },
    {
     "data": {
      "image/png": "[encoded data removed]",
      "text/plain": [
       "<Figure size 640x480 with 1 Axes>"
      ]
     },
     "metadata": {},
     "output_type": "display_data"
    }
   ],
   "source": [
    "sns.boxplot(x=gdp_decades['Year'], y=gdp_decades['GDP_Per_Capita'])"
   ]
  },
  {
   "cell_type": "markdown",
   "id": "3a4dfca6-1798-46ee-b9d7-99c45bd03beb",
   "metadata": {},
   "source": [
    "#### Bar Chart"
   ]
  },
  {
   "cell_type": "code",
   "execution_count": 22,
   "id": "51480496-2078-4c8e-a408-017bfefa8521",
   "metadata": {},
   "outputs": [
    {
     "data": {
      "text/plain": [
       "<Axes: xlabel='Year', ylabel='GDP_Per_Capita'>"
      ]
     },
     "execution_count": 22,
     "metadata": {},
     "output_type": "execute_result"
    },
    {
     "data": {
      "image/png": "[encoded data removed]",
      "text/plain": [
       "<Figure size 640x480 with 1 Axes>"
      ]
     },
     "metadata": {},
     "output_type": "display_data"
    }
   ],
   "source": [
    "sns.barplot(\n",
    "    x=\"Year\", \n",
    "    y=\"GDP_Per_Capita\", \n",
    "    data=gdp_decades,\n",
    "    errorbar=None)"
   ]
  },
  {
   "cell_type": "markdown",
   "id": "89a72899-2648-4608-81ec-59ea3e795851",
   "metadata": {},
   "source": [
    "#### Scatterplot"
   ]
  },
  {
   "cell_type": "code",
   "execution_count": 23,
   "id": "c76503ca-a6c5-4d35-a0fd-c5399d115abb",
   "metadata": {},
   "outputs": [
    {
     "data": {
      "text/plain": [
       "<Axes: xlabel='Year', ylabel='GDP_Per_Capita'>"
      ]
     },
     "execution_count": 23,
     "metadata": {},
     "output_type": "execute_result"
    },
    {
     "data": {
      "image/png": "[encoded data removed]",
      "text/plain": [
       "<Figure size 640x480 with 1 Axes>"
      ]
     },
     "metadata": {},
     "output_type": "display_data"
    }
   ],
   "source": [
    "sns.regplot(x=gdp_decades['Year'],\n",
    "            y=gdp_decades['GDP_Per_Capita'],\n",
    "           fit_reg=False)"
   ]
  },
  {
   "cell_type": "markdown",
   "id": "4862bbfe-87b8-4a1c-ae3d-bc2f201a559d",
   "metadata": {},
   "source": [
    "#### Scatterplot with Regression Line"
   ]
  },
  {
   "cell_type": "code",
   "execution_count": 24,
   "id": "181ab647-477f-4afe-858a-6faf5be8a224",
   "metadata": {},
   "outputs": [
    {
     "data": {
      "text/plain": [
       "<Axes: xlabel='Year', ylabel='GDP_Per_Capita'>"
      ]
     },
     "execution_count": 24,
     "metadata": {},
     "output_type": "execute_result"
    },
    {
     "data": {
      "image/png": "[encoded data removed]",
      "text/plain": [
       "<Figure size 640x480 with 1 Axes>"
      ]
     },
     "metadata": {},
     "output_type": "display_data"
    }
   ],
   "source": [
    "sns.regplot(x=gdp_decades['Year'],\n",
    "            y=gdp_decades['GDP_Per_Capita'],\n",
    "            line_kws={\n",
    "                        \"color\": \"r\",\n",
    "                        \"alpha\": 0.4,\n",
    "                        \"lw\": 2,\n",
    "                        \"ls\": \"--\"\n",
    "                        }\n",
    "           )"
   ]
  },
  {
   "cell_type": "markdown",
   "id": "a5333bc5-0e02-4963-b415-1b755b1ccedf",
   "metadata": {},
   "source": [
    "#### All of these graphs show that the gdp is increasing over the decades"
   ]
  },
  {
   "cell_type": "markdown",
   "id": "2cf9a3c4-faa9-4865-b052-becba48ce3ef",
   "metadata": {},
   "source": [
    "#### Scatterplots can be helpful, but for this use-case, the scatter plot doesn't show us much until you add in the regression line."
   ]
  },
  {
   "cell_type": "markdown",
   "id": "7cd62d6a-1053-45b9-89f5-2dc0245bfaae",
   "metadata": {},
   "source": [
    "#### Both the box plot and the bar chart are helpful and easy to read and understand the change over the decades."
   ]
  },
  {
   "cell_type": "markdown",
   "id": "4866b85a-b77b-40a0-b145-962f30dff0fe",
   "metadata": {},
   "source": [
    "# 11) Which country was the first to have a GDP per capita greater than $100,000?"
   ]
  },
  {
   "cell_type": "code",
   "execution_count": 25,
   "id": "db8949a2-96c5-43d4-99b7-0af1163fe67b",
   "metadata": {},
   "outputs": [
    {
     "data": {
      "text/plain": [
       "Country           United Arab Emirates\n",
       "Year                              1990\n",
       "GDP_Per_Capita           105893.626059\n",
       "Name: 7302, dtype: object"
      ]
     },
     "execution_count": 25,
     "metadata": {},
     "output_type": "execute_result"
    }
   ],
   "source": [
    "gdp_greaterthan_100000 = gdp_df_clean[gdp_df_clean['GDP_Per_Capita'] > 100000]\n",
    "gdp_greaterthan_100000.loc[gdp_greaterthan_100000['Year'].idxmin()]"
   ]
  },
  {
   "cell_type": "markdown",
   "id": "fac6134e-4ae0-49f6-abec-cabb40dd3899",
   "metadata": {},
   "source": [
    "# 12) Which country had the highest GDP per capita in 2020?"
   ]
  },
  {
   "cell_type": "code",
   "execution_count": 26,
   "id": "7abcd385-d0a3-4d53-84b9-89475ed50768",
   "metadata": {},
   "outputs": [],
   "source": [
    "gdp_2020.sort_values('GDP_Per_Capita',\n",
    "                     ascending=False)\n",
    "\n",
    "highest_gdp_2020_country = gdp_2020.loc[gdp_2020['GDP_Per_Capita'].idxmax()]['Country']"
   ]
  },
  {
   "cell_type": "markdown",
   "id": "435ad1c2-c9da-4a92-b947-1b1fe48a8d1c",
   "metadata": {},
   "source": [
    "'Luxembourg'"
   ]
  },
  {
   "cell_type": "markdown",
   "id": "5166fca6-7b1e-469e-a5eb-cc073cc8ebae",
   "metadata": {},
   "source": [
    "## Create a plot showing how this country's GDP per capita has changed over the timespan of the dataset."
   ]
  },
  {
   "cell_type": "code",
   "execution_count": 27,
   "id": "62ce1123-0b13-497e-8171-951a06c28897",
   "metadata": {},
   "outputs": [],
   "source": [
    "gdp_highest_2020 = gdp_df_clean[gdp_df_clean['Country'] == highest_gdp_2020_country]"
   ]
  },
  {
   "cell_type": "code",
   "execution_count": 28,
   "id": "e2fcfce3-50d7-4caa-8a27-3a3156a44595",
   "metadata": {},
   "outputs": [
    {
     "data": {
      "image/png": "[encoded data removed]",
      "text/plain": [
       "<Figure size 800x600 with 1 Axes>"
      ]
     },
     "metadata": {},
     "output_type": "display_data"
    }
   ],
   "source": [
    "fig, ax = plt.subplots(figsize=(8, 6))\n",
    "ax.plot(gdp_highest_2020['Year'], gdp_highest_2020['GDP_Per_Capita']);"
   ]
  },
  {
   "cell_type": "markdown",
   "id": "148c5c3e-c249-4be6-82bb-b89e4697b5d9",
   "metadata": {},
   "source": [
    "# 13) Which country had the lowest GDP per capita in 2020? Create a plot showing how this country's GDP per capita has changed over the timespan of the dataset.\n",
    "\n"
   ]
  },
  {
   "cell_type": "code",
   "execution_count": 29,
   "id": "f7d92833-54d2-428e-ae93-a42b119a5a8e",
   "metadata": {
    "scrolled": true
   },
   "outputs": [
    {
     "data": {
      "text/html": [
       "<div>\n",
       "<style scoped>\n",
       "    .dataframe tbody tr th:only-of-type {\n",
       "        vertical-align: middle;\n",
       "    }\n",
       "\n",
       "    .dataframe tbody tr th {\n",
       "        vertical-align: top;\n",
       "    }\n",
       "\n",
       "    .dataframe thead th {\n",
       "        text-align: right;\n",
       "    }\n",
       "</style>\n",
       "<table border=\"1\" class=\"dataframe\">\n",
       "  <thead>\n",
       "    <tr style=\"text-align: right;\">\n",
       "      <th></th>\n",
       "      <th>Country</th>\n",
       "      <th>Year</th>\n",
       "      <th>GDP_Per_Capita</th>\n",
       "    </tr>\n",
       "  </thead>\n",
       "  <tbody>\n",
       "    <tr>\n",
       "      <th>1</th>\n",
       "      <td>Afghanistan</td>\n",
       "      <td>2020</td>\n",
       "      <td>1968.341002</td>\n",
       "    </tr>\n",
       "    <tr>\n",
       "      <th>22</th>\n",
       "      <td>Africa Eastern and Southern</td>\n",
       "      <td>2020</td>\n",
       "      <td>3455.023119</td>\n",
       "    </tr>\n",
       "    <tr>\n",
       "      <th>55</th>\n",
       "      <td>Africa Western and Central</td>\n",
       "      <td>2020</td>\n",
       "      <td>3957.933804</td>\n",
       "    </tr>\n",
       "    <tr>\n",
       "      <th>88</th>\n",
       "      <td>Albania</td>\n",
       "      <td>2020</td>\n",
       "      <td>13278.369769</td>\n",
       "    </tr>\n",
       "    <tr>\n",
       "      <th>121</th>\n",
       "      <td>Algeria</td>\n",
       "      <td>2020</td>\n",
       "      <td>10844.770764</td>\n",
       "    </tr>\n",
       "  </tbody>\n",
       "</table>\n",
       "</div>"
      ],
      "text/plain": [
       "                         Country  Year  GDP_Per_Capita\n",
       "1                    Afghanistan  2020     1968.341002\n",
       "22   Africa Eastern and Southern  2020     3455.023119\n",
       "55    Africa Western and Central  2020     3957.933804\n",
       "88                       Albania  2020    13278.369769\n",
       "121                      Algeria  2020    10844.770764"
      ]
     },
     "execution_count": 29,
     "metadata": {},
     "output_type": "execute_result"
    }
   ],
   "source": [
    "gdp_2020.head()"
   ]
  },
  {
   "cell_type": "code",
   "execution_count": 30,
   "id": "ee13bbc8-2ad5-4a95-9ad3-83eff8acdfe3",
   "metadata": {
    "scrolled": true
   },
   "outputs": [],
   "source": [
    "lowest_gdp_2020_country = gdp_2020.loc[gdp_2020['GDP_Per_Capita'].idxmin()]['Country']"
   ]
  },
  {
   "cell_type": "markdown",
   "id": "7deff045-020e-40db-ae91-01bfd9959a71",
   "metadata": {},
   "source": [
    "'Burundi'"
   ]
  },
  {
   "cell_type": "code",
   "execution_count": 31,
   "id": "0327391e-993c-44be-8709-761b365d39f2",
   "metadata": {},
   "outputs": [
    {
     "data": {
      "text/plain": [
       "[<matplotlib.lines.Line2D at 0x152342d2b10>]"
      ]
     },
     "execution_count": 31,
     "metadata": {},
     "output_type": "execute_result"
    },
    {
     "data": {
      "image/png": "[encoded data removed]",
      "text/plain": [
       "<Figure size 800x600 with 1 Axes>"
      ]
     },
     "metadata": {},
     "output_type": "display_data"
    }
   ],
   "source": [
    "gdp_lowest_2020 = gdp_df_clean[gdp_df_clean['Country'] == lowest_gdp_2020_country]\n",
    "fig1, ax1 = plt.subplots(figsize=(8, 6))\n",
    "ax1.plot(gdp_lowest_2020['Year'], gdp_lowest_2020['GDP_Per_Capita'])"
   ]
  },
  {
   "cell_type": "markdown",
   "id": "117e7d7a-f099-4487-b394-0b098c19eb74",
   "metadata": {},
   "source": [
    "## 13 BONUS) Is it true in general that coutries had a higher GDP per capita in 2020 than in 1990? Which countries had lower GDP per capita in 2020 than in 1990?"
   ]
  },
  {
   "cell_type": "code",
   "execution_count": 32,
   "id": "a1a15ff0-81a9-45f3-81ba-ff0a49021a01",
   "metadata": {
    "scrolled": true
   },
   "outputs": [
    {
     "name": "stdout",
     "output_type": "stream",
     "text": [
      "1990 average gdp: 12506.08837386169\n",
      "2020 average gdp: 19586.75444556196\n"
     ]
    }
   ],
   "source": [
    "gdp_1990 = gdp_df_clean[gdp_df_clean['Year'] == 1990]\n",
    "print('1990 average gdp: ' + str(gdp_1990['GDP_Per_Capita'].mean()))\n",
    "print('2020 average gdp: ' + str(gdp_2020['GDP_Per_Capita'].mean()))"
   ]
  },
  {
   "cell_type": "code",
   "execution_count": 33,
   "id": "7ce658f1",
   "metadata": {},
   "outputs": [],
   "source": [
    "gdp_1990 = gdp_1990.rename(columns={'GDP_Per_Capita': 'GDP_Per_Capita_1990'}).drop('Year', axis=1)\n",
    "gdp_2020 = gdp_2020.rename(columns={'GDP_Per_Capita': 'GDP_Per_Capita_2020'}).drop('Year', axis=1)"
   ]
  },
  {
   "cell_type": "code",
   "execution_count": 34,
   "id": "1b6c2357",
   "metadata": {},
   "outputs": [],
   "source": [
    "gdp_1990_2020 = gdp_1990.merge(gdp_2020, how='inner', on='Country')\n",
    "lowerin_2020 = gdp_1990_2020[gdp_1990_2020['GDP_Per_Capita_2020'] < gdp_1990_2020['GDP_Per_Capita_1990']]"
   ]
  },
  {
   "cell_type": "code",
   "execution_count": 54,
   "id": "f59f9ae4",
   "metadata": {
    "scrolled": true
   },
   "outputs": [
    {
     "name": "stdout",
     "output_type": "stream",
     "text": [
      "<class 'pandas.core.frame.DataFrame'>\n",
      "Index: 19 entries, 15 to 206\n",
      "Data columns (total 3 columns):\n",
      " #   Column               Non-Null Count  Dtype  \n",
      "---  ------               --------------  -----  \n",
      " 0   Country              19 non-null     object \n",
      " 1   GDP_Per_Capita_1990  19 non-null     float64\n",
      " 2   GDP_Per_Capita_2020  19 non-null     float64\n",
      "dtypes: float64(2), object(1)\n",
      "memory usage: 608.0+ bytes\n"
     ]
    }
   ],
   "source": [
    "lowerin_2020.info()"
   ]
  },
  {
   "cell_type": "markdown",
   "id": "8fe8d464",
   "metadata": {},
   "source": [
    " A) 'Barbados', 'Brunei', 'Burundi', 'Central African Republic',\n",
    "       'Congo', 'Dem. Rep. Congo',\n",
    "       'Fragile and conflict affected situations', 'Gabon',\n",
    "       'Guinea-Bissau', 'Haiti', 'Kiribati', 'Kyrgyz Republic',\n",
    "       'Madagascar', 'Tajikistan', 'The Bahamas', 'The Gambia', 'Ukraine',\n",
    "       'United Arab Emirates', 'Zimbabwe'"
   ]
  },
  {
   "cell_type": "markdown",
   "id": "9b6edea2-8859-4cf3-94e7-36ab18348385",
   "metadata": {},
   "source": [
    "##### The average GDP from 2020 is higher than 1990"
   ]
  },
  {
   "cell_type": "markdown",
   "id": "9cd23af2-1be6-47dc-b349-d95d2617b308",
   "metadata": {},
   "source": [
    "# 14) Read in the internet use dataset into a DataFrame named internet_df. You will likely get errors when doing this. Check the arguments for the read_csv function to find ones that can help correct the errors (https://pandas.pydata.org/docs/reference/api/pandas.read_csv.html) Once you are able to read it in, take per a look at the top and bottom few rows to make sure that it has been read in correctly. Also, check the datatypes of the columns."
   ]
  },
  {
   "cell_type": "code",
   "execution_count": 36,
   "id": "03ba06a0-e3c5-4b92-a127-edd7bb905b54",
   "metadata": {},
   "outputs": [],
   "source": [
    "internet_df = pd.read_csv('../data/internet_use.csv', nrows=4495)"
   ]
  },
  {
   "cell_type": "code",
   "execution_count": 37,
   "id": "617dee5f-118f-40c8-9f0a-2b12bba0e553",
   "metadata": {},
   "outputs": [
    {
     "name": "stdout",
     "output_type": "stream",
     "text": [
      "<class 'pandas.core.frame.DataFrame'>\n",
      "RangeIndex: 4495 entries, 0 to 4494\n",
      "Data columns (total 4 columns):\n",
      " #   Column           Non-Null Count  Dtype  \n",
      "---  ------           --------------  -----  \n",
      " 0   Country or Area  4495 non-null   object \n",
      " 1   Year             4495 non-null   int64  \n",
      " 2   Value            4495 non-null   float64\n",
      " 3   Value Footnotes  948 non-null    float64\n",
      "dtypes: float64(2), int64(1), object(1)\n",
      "memory usage: 140.6+ KB\n"
     ]
    }
   ],
   "source": [
    "internet_df.info()"
   ]
  },
  {
   "cell_type": "markdown",
   "id": "6bd17234-7052-4a76-ac6d-c1b2b6461cdd",
   "metadata": {},
   "source": [
    "# 15) Drop the Value Footnotes column and rename the remaining three to 'Country', 'Year', and 'Internet_Users_Pct'."
   ]
  },
  {
   "cell_type": "code",
   "execution_count": 38,
   "id": "b57eaacd-a526-4c0a-9b9a-913098379b1c",
   "metadata": {},
   "outputs": [
    {
     "data": {
      "text/html": [
       "<div>\n",
       "<style scoped>\n",
       "    .dataframe tbody tr th:only-of-type {\n",
       "        vertical-align: middle;\n",
       "    }\n",
       "\n",
       "    .dataframe tbody tr th {\n",
       "        vertical-align: top;\n",
       "    }\n",
       "\n",
       "    .dataframe thead th {\n",
       "        text-align: right;\n",
       "    }\n",
       "</style>\n",
       "<table border=\"1\" class=\"dataframe\">\n",
       "  <thead>\n",
       "    <tr style=\"text-align: right;\">\n",
       "      <th></th>\n",
       "      <th>Country</th>\n",
       "      <th>Year</th>\n",
       "      <th>Internet_Users_Pct</th>\n",
       "    </tr>\n",
       "  </thead>\n",
       "  <tbody>\n",
       "    <tr>\n",
       "      <th>0</th>\n",
       "      <td>Afghanistan</td>\n",
       "      <td>2014</td>\n",
       "      <td>6.390000</td>\n",
       "    </tr>\n",
       "    <tr>\n",
       "      <th>1</th>\n",
       "      <td>Afghanistan</td>\n",
       "      <td>2013</td>\n",
       "      <td>5.900000</td>\n",
       "    </tr>\n",
       "    <tr>\n",
       "      <th>2</th>\n",
       "      <td>Afghanistan</td>\n",
       "      <td>2012</td>\n",
       "      <td>5.454545</td>\n",
       "    </tr>\n",
       "    <tr>\n",
       "      <th>3</th>\n",
       "      <td>Afghanistan</td>\n",
       "      <td>2011</td>\n",
       "      <td>5.000000</td>\n",
       "    </tr>\n",
       "    <tr>\n",
       "      <th>4</th>\n",
       "      <td>Afghanistan</td>\n",
       "      <td>2010</td>\n",
       "      <td>4.000000</td>\n",
       "    </tr>\n",
       "  </tbody>\n",
       "</table>\n",
       "</div>"
      ],
      "text/plain": [
       "       Country  Year  Internet_Users_Pct\n",
       "0  Afghanistan  2014            6.390000\n",
       "1  Afghanistan  2013            5.900000\n",
       "2  Afghanistan  2012            5.454545\n",
       "3  Afghanistan  2011            5.000000\n",
       "4  Afghanistan  2010            4.000000"
      ]
     },
     "execution_count": 38,
     "metadata": {},
     "output_type": "execute_result"
    }
   ],
   "source": [
    "internet_df_clean = internet_df.drop('Value Footnotes', axis=1)\n",
    "internet_df_clean = internet_df_clean.rename(columns={'Country or Area': 'Country', 'Value': 'Internet_Users_Pct'})\n",
    "internet_df_clean.head()"
   ]
  },
  {
   "cell_type": "markdown",
   "id": "a99c2b99-e9f8-49ae-88a6-71d2f856dc89",
   "metadata": {},
   "source": [
    "# 16) Look at the number of observations in this dataset per year. What do you notice?"
   ]
  },
  {
   "cell_type": "code",
   "execution_count": 39,
   "id": "ee95165a-9ef2-455e-8402-fbc6420d4a21",
   "metadata": {},
   "outputs": [],
   "source": [
    "# internet_df_clean.groupby('Year').count()"
   ]
  },
  {
   "cell_type": "markdown",
   "id": "19016dc1-754c-4b9e-b054-46c94b75b7ba",
   "metadata": {},
   "source": [
    "##### There is a big spike in 1990 and then a stead climb starting in 1991 through present"
   ]
  },
  {
   "cell_type": "markdown",
   "id": "0545bc16-bbd4-4dc0-a1d1-4aef6c52d6b6",
   "metadata": {},
   "source": [
    "# 17) What is the first year to have a non-zero internet users percentage value?"
   ]
  },
  {
   "cell_type": "code",
   "execution_count": 40,
   "id": "2de5bed5-8539-4d89-880e-eaef266dc9bf",
   "metadata": {},
   "outputs": [
    {
     "data": {
      "text/plain": [
       "1990"
      ]
     },
     "execution_count": 40,
     "metadata": {},
     "output_type": "execute_result"
    }
   ],
   "source": [
    "internet_non_zero = internet_df_clean[internet_df_clean['Internet_Users_Pct'] != 0]\n",
    "internet_non_zero.loc[internet_non_zero['Year'].idxmin()]['Year']"
   ]
  },
  {
   "cell_type": "markdown",
   "id": "d5c5ea79-1d92-4502-aca1-9bb59fc7d9a4",
   "metadata": {},
   "source": [
    "#### 1990 was the first year to have non-zero internet users"
   ]
  },
  {
   "cell_type": "markdown",
   "id": "eca4c26f-d9c0-41c8-9673-6ac1669102cb",
   "metadata": {},
   "source": [
    "# 18) How does the distribution of internet users percent differ for 2000 and 2014?"
   ]
  },
  {
   "cell_type": "code",
   "execution_count": 41,
   "id": "84ca9cf7-0db0-4a82-83dc-9913273490e7",
   "metadata": {
    "scrolled": true
   },
   "outputs": [
    {
     "data": {
      "text/plain": [
       "<Axes: xlabel='Year', ylabel='Internet_Users_Pct'>"
      ]
     },
     "execution_count": 41,
     "metadata": {},
     "output_type": "execute_result"
    },
    {
     "data": {
      "image/png": "[encoded data removed]",
      "text/plain": [
       "<Figure size 640x480 with 1 Axes>"
      ]
     },
     "metadata": {},
     "output_type": "display_data"
    }
   ],
   "source": [
    "df_2000_2014 = internet_df_clean[(internet_df_clean['Year'] == 2000) | (internet_df_clean['Year'] == 2014)]\n",
    "sns.boxplot(data=df_2000_2014, x='Year', y='Internet_Users_Pct')"
   ]
  },
  {
   "cell_type": "markdown",
   "id": "1260fa63-418d-48bb-959a-ad811044de58",
   "metadata": {},
   "source": [
    "#### Looking at the distributions, we see\n",
    "that the vast majority of countries in 2014 have more usage than even the top 25% from 2000. "
   ]
  },
  {
   "cell_type": "markdown",
   "id": "4eea3a69",
   "metadata": {},
   "source": [
    "# 19) For how many countries was the percentage of internet users below 5% in 2014?"
   ]
  },
  {
   "cell_type": "code",
   "execution_count": 42,
   "id": "c883fe7d",
   "metadata": {},
   "outputs": [
    {
     "data": {
      "text/plain": [
       "16"
      ]
     },
     "execution_count": 42,
     "metadata": {},
     "output_type": "execute_result"
    }
   ],
   "source": [
    "df_2014_5perc = internet_df_clean[(internet_df_clean['Year'] == 2014) & (internet_df_clean['Internet_Users_Pct'] < 5)]\n",
    "df_2014_5perc.shape[0]"
   ]
  },
  {
   "cell_type": "markdown",
   "id": "5bf292fe",
   "metadata": {},
   "source": [
    "#### 16 in 2014 below 5 percent"
   ]
  },
  {
   "cell_type": "markdown",
   "id": "e081b6ed",
   "metadata": {},
   "source": [
    "# 20) Merge the two DataFrames to one. Do this in a way that keeps **all rows** from each of the two DataFrames. Call the new DataFrame `gdp_and_internet_use`. Look at the first and last few rows to confirm that it merged correctly."
   ]
  },
  {
   "cell_type": "code",
   "execution_count": 43,
   "id": "a12a0302",
   "metadata": {},
   "outputs": [
    {
     "data": {
      "text/plain": [
       "12157"
      ]
     },
     "execution_count": 43,
     "metadata": {},
     "output_type": "execute_result"
    }
   ],
   "source": [
    "gdp_df_clean.shape[0] + internet_df_clean.shape[0]"
   ]
  },
  {
   "cell_type": "code",
   "execution_count": 44,
   "id": "10737d77",
   "metadata": {},
   "outputs": [
    {
     "data": {
      "text/plain": [
       "<bound method DataFrame.info of           Country  Year  GDP_Per_Capita  Internet_Users_Pct\n",
       "0     Afghanistan  2021     1517.016266                 NaN\n",
       "1     Afghanistan  2020     1968.341002                 NaN\n",
       "2     Afghanistan  2019     2079.921861                 NaN\n",
       "3     Afghanistan  2018     2060.698973                 NaN\n",
       "4     Afghanistan  2017     2096.093111                 NaN\n",
       "...           ...   ...             ...                 ...\n",
       "8731        Yemen  1999             NaN            0.056629\n",
       "8732        Yemen  1998             NaN            0.023323\n",
       "8733        Yemen  1997             NaN            0.015025\n",
       "8734        Yemen  1996             NaN            0.000621\n",
       "8735        Yemen  1990             NaN            0.000000\n",
       "\n",
       "[8736 rows x 4 columns]>"
      ]
     },
     "execution_count": 44,
     "metadata": {},
     "output_type": "execute_result"
    }
   ],
   "source": [
    "gdp_and_internet_use = gdp_df_clean.merge(internet_df_clean, how = 'outer', on=('Country', 'Year'))\n",
    "gdp_and_internet_use.info"
   ]
  },
  {
   "cell_type": "markdown",
   "id": "367173b1",
   "metadata": {},
   "source": [
    "# 21) Find the three countries with the highest internet users percentage in 2014. Use a seaborn FacetGrid (https://seaborn.pydata.org/generated/seaborn.FacetGrid.html) to compare how the GDP per capita has changed over time for these three countries. What do you notice?"
   ]
  },
  {
   "cell_type": "code",
   "execution_count": 45,
   "id": "c6989295",
   "metadata": {},
   "outputs": [
    {
     "data": {
      "text/plain": [
       "<NumpyExtensionArray>\n",
       "['Iceland', 'Bermuda', 'Norway']\n",
       "Length: 3, dtype: object"
      ]
     },
     "execution_count": 45,
     "metadata": {},
     "output_type": "execute_result"
    }
   ],
   "source": [
    "highest_internet_2014_countries = pd.array(internet_df_clean[internet_df_clean['Year'] == 2014].nlargest(3, 'Internet_Users_Pct')['Country'])\n",
    "highest_internet_2014_countries"
   ]
  },
  {
   "cell_type": "code",
   "execution_count": 46,
   "id": "e1b5ee24",
   "metadata": {},
   "outputs": [
    {
     "data": {
      "text/html": [
       "<div>\n",
       "<style scoped>\n",
       "    .dataframe tbody tr th:only-of-type {\n",
       "        vertical-align: middle;\n",
       "    }\n",
       "\n",
       "    .dataframe tbody tr th {\n",
       "        vertical-align: top;\n",
       "    }\n",
       "\n",
       "    .dataframe thead th {\n",
       "        text-align: right;\n",
       "    }\n",
       "</style>\n",
       "<table border=\"1\" class=\"dataframe\">\n",
       "  <thead>\n",
       "    <tr style=\"text-align: right;\">\n",
       "      <th></th>\n",
       "      <th>Country</th>\n",
       "      <th>Year</th>\n",
       "      <th>GDP_Per_Capita</th>\n",
       "    </tr>\n",
       "  </thead>\n",
       "  <tbody>\n",
       "    <tr>\n",
       "      <th>679</th>\n",
       "      <td>Bermuda</td>\n",
       "      <td>2022</td>\n",
       "      <td>81165.650944</td>\n",
       "    </tr>\n",
       "    <tr>\n",
       "      <th>680</th>\n",
       "      <td>Bermuda</td>\n",
       "      <td>2021</td>\n",
       "      <td>78570.489515</td>\n",
       "    </tr>\n",
       "    <tr>\n",
       "      <th>681</th>\n",
       "      <td>Bermuda</td>\n",
       "      <td>2020</td>\n",
       "      <td>76117.804744</td>\n",
       "    </tr>\n",
       "    <tr>\n",
       "      <th>682</th>\n",
       "      <td>Bermuda</td>\n",
       "      <td>2019</td>\n",
       "      <td>81681.726668</td>\n",
       "    </tr>\n",
       "    <tr>\n",
       "      <th>683</th>\n",
       "      <td>Bermuda</td>\n",
       "      <td>2018</td>\n",
       "      <td>81423.408453</td>\n",
       "    </tr>\n",
       "    <tr>\n",
       "      <th>...</th>\n",
       "      <td>...</td>\n",
       "      <td>...</td>\n",
       "      <td>...</td>\n",
       "    </tr>\n",
       "    <tr>\n",
       "      <th>5232</th>\n",
       "      <td>Norway</td>\n",
       "      <td>1994</td>\n",
       "      <td>47728.440232</td>\n",
       "    </tr>\n",
       "    <tr>\n",
       "      <th>5233</th>\n",
       "      <td>Norway</td>\n",
       "      <td>1993</td>\n",
       "      <td>45691.162079</td>\n",
       "    </tr>\n",
       "    <tr>\n",
       "      <th>5234</th>\n",
       "      <td>Norway</td>\n",
       "      <td>1992</td>\n",
       "      <td>44692.360963</td>\n",
       "    </tr>\n",
       "    <tr>\n",
       "      <th>5235</th>\n",
       "      <td>Norway</td>\n",
       "      <td>1991</td>\n",
       "      <td>43399.755863</td>\n",
       "    </tr>\n",
       "    <tr>\n",
       "      <th>5236</th>\n",
       "      <td>Norway</td>\n",
       "      <td>1990</td>\n",
       "      <td>42302.263412</td>\n",
       "    </tr>\n",
       "  </tbody>\n",
       "</table>\n",
       "<p>94 rows × 3 columns</p>\n",
       "</div>"
      ],
      "text/plain": [
       "      Country  Year  GDP_Per_Capita\n",
       "679   Bermuda  2022    81165.650944\n",
       "680   Bermuda  2021    78570.489515\n",
       "681   Bermuda  2020    76117.804744\n",
       "682   Bermuda  2019    81681.726668\n",
       "683   Bermuda  2018    81423.408453\n",
       "...       ...   ...             ...\n",
       "5232   Norway  1994    47728.440232\n",
       "5233   Norway  1993    45691.162079\n",
       "5234   Norway  1992    44692.360963\n",
       "5235   Norway  1991    43399.755863\n",
       "5236   Norway  1990    42302.263412\n",
       "\n",
       "[94 rows x 3 columns]"
      ]
     },
     "execution_count": 46,
     "metadata": {},
     "output_type": "execute_result"
    }
   ],
   "source": [
    "gdp_highest3_internet = gdp_df_clean[gdp_df_clean['Country'].isin(highest_internet_2014_countries)]\n",
    "gdp_highest3_internet"
   ]
  },
  {
   "cell_type": "code",
   "execution_count": 47,
   "id": "81ecaee1",
   "metadata": {},
   "outputs": [
    {
     "data": {
      "text/plain": [
       "<seaborn.axisgrid.FacetGrid at 0x15235db7590>"
      ]
     },
     "execution_count": 47,
     "metadata": {},
     "output_type": "execute_result"
    },
    {
     "data": {
      "image/png": "[encoded data removed]",
      "text/plain": [
       "<Figure size 900x300 with 3 Axes>"
      ]
     },
     "metadata": {},
     "output_type": "display_data"
    }
   ],
   "source": [
    "g = sns.FacetGrid(gdp_highest3_internet, col='Country')\n",
    "g.map(sns.scatterplot, 'Year', 'GDP_Per_Capita')\n",
    "g.set_titles(col_template=\"{col_name}\")"
   ]
  },
  {
   "cell_type": "markdown",
   "id": "ba7b1cd1",
   "metadata": {},
   "source": [
    "# 22) Subset `gdp_and_internet_use` to just the year 2014. Save this as a new dataframe named `gdp_and_internet_use_2014`"
   ]
  },
  {
   "cell_type": "code",
   "execution_count": 48,
   "id": "da965f08",
   "metadata": {},
   "outputs": [
    {
     "data": {
      "text/html": [
       "<div>\n",
       "<style scoped>\n",
       "    .dataframe tbody tr th:only-of-type {\n",
       "        vertical-align: middle;\n",
       "    }\n",
       "\n",
       "    .dataframe tbody tr th {\n",
       "        vertical-align: top;\n",
       "    }\n",
       "\n",
       "    .dataframe thead th {\n",
       "        text-align: right;\n",
       "    }\n",
       "</style>\n",
       "<table border=\"1\" class=\"dataframe\">\n",
       "  <thead>\n",
       "    <tr style=\"text-align: right;\">\n",
       "      <th></th>\n",
       "      <th>Country</th>\n",
       "      <th>Year</th>\n",
       "      <th>GDP_Per_Capita</th>\n",
       "      <th>Internet_Users_Pct</th>\n",
       "    </tr>\n",
       "  </thead>\n",
       "  <tbody>\n",
       "    <tr>\n",
       "      <th>7</th>\n",
       "      <td>Afghanistan</td>\n",
       "      <td>2014</td>\n",
       "      <td>2144.449634</td>\n",
       "      <td>6.39</td>\n",
       "    </tr>\n",
       "    <tr>\n",
       "      <th>28</th>\n",
       "      <td>Africa Eastern and Southern</td>\n",
       "      <td>2014</td>\n",
       "      <td>3642.875373</td>\n",
       "      <td>NaN</td>\n",
       "    </tr>\n",
       "    <tr>\n",
       "      <th>61</th>\n",
       "      <td>Africa Western and Central</td>\n",
       "      <td>2014</td>\n",
       "      <td>4146.994622</td>\n",
       "      <td>NaN</td>\n",
       "    </tr>\n",
       "    <tr>\n",
       "      <th>94</th>\n",
       "      <td>Albania</td>\n",
       "      <td>2014</td>\n",
       "      <td>11586.817446</td>\n",
       "      <td>60.10</td>\n",
       "    </tr>\n",
       "    <tr>\n",
       "      <th>127</th>\n",
       "      <td>Algeria</td>\n",
       "      <td>2014</td>\n",
       "      <td>11561.259795</td>\n",
       "      <td>18.09</td>\n",
       "    </tr>\n",
       "    <tr>\n",
       "      <th>...</th>\n",
       "      <td>...</td>\n",
       "      <td>...</td>\n",
       "      <td>...</td>\n",
       "      <td>...</td>\n",
       "    </tr>\n",
       "    <tr>\n",
       "      <th>8589</th>\n",
       "      <td>T.F.Y.R. Macedonia</td>\n",
       "      <td>2014</td>\n",
       "      <td>NaN</td>\n",
       "      <td>68.06</td>\n",
       "    </tr>\n",
       "    <tr>\n",
       "      <th>8647</th>\n",
       "      <td>Turkey</td>\n",
       "      <td>2014</td>\n",
       "      <td>NaN</td>\n",
       "      <td>51.04</td>\n",
       "    </tr>\n",
       "    <tr>\n",
       "      <th>8670</th>\n",
       "      <td>Venezuela</td>\n",
       "      <td>2014</td>\n",
       "      <td>NaN</td>\n",
       "      <td>57.00</td>\n",
       "    </tr>\n",
       "    <tr>\n",
       "      <th>8694</th>\n",
       "      <td>Virgin Islands (U.S.)</td>\n",
       "      <td>2014</td>\n",
       "      <td>NaN</td>\n",
       "      <td>50.07</td>\n",
       "    </tr>\n",
       "    <tr>\n",
       "      <th>8716</th>\n",
       "      <td>Yemen</td>\n",
       "      <td>2014</td>\n",
       "      <td>NaN</td>\n",
       "      <td>22.55</td>\n",
       "    </tr>\n",
       "  </tbody>\n",
       "</table>\n",
       "<p>281 rows × 4 columns</p>\n",
       "</div>"
      ],
      "text/plain": [
       "                          Country  Year  GDP_Per_Capita  Internet_Users_Pct\n",
       "7                     Afghanistan  2014     2144.449634                6.39\n",
       "28    Africa Eastern and Southern  2014     3642.875373                 NaN\n",
       "61     Africa Western and Central  2014     4146.994622                 NaN\n",
       "94                        Albania  2014    11586.817446               60.10\n",
       "127                       Algeria  2014    11561.259795               18.09\n",
       "...                           ...   ...             ...                 ...\n",
       "8589           T.F.Y.R. Macedonia  2014             NaN               68.06\n",
       "8647                       Turkey  2014             NaN               51.04\n",
       "8670                    Venezuela  2014             NaN               57.00\n",
       "8694        Virgin Islands (U.S.)  2014             NaN               50.07\n",
       "8716                        Yemen  2014             NaN               22.55\n",
       "\n",
       "[281 rows x 4 columns]"
      ]
     },
     "execution_count": 48,
     "metadata": {},
     "output_type": "execute_result"
    }
   ],
   "source": [
    "gdp_and_internet_use_2014 = gdp_and_internet_use[gdp_and_internet_use['Year'] == 2014]\n",
    "gdp_and_internet_use_2014"
   ]
  },
  {
   "cell_type": "markdown",
   "id": "be156b84",
   "metadata": {},
   "source": [
    "# 23) Create a plot which compares Internet Users Percentage and GDP per Capita for the year 2014. What do you notice from this plot? If you see any unusual points, investigate them."
   ]
  },
  {
   "cell_type": "code",
   "execution_count": 49,
   "id": "2264cf05",
   "metadata": {},
   "outputs": [
    {
     "data": {
      "text/plain": [
       "<Axes: xlabel='Internet_Users_Pct', ylabel='GDP_Per_Capita'>"
      ]
     },
     "execution_count": 49,
     "metadata": {},
     "output_type": "execute_result"
    },
    {
     "data": {
      "image/png": "[encoded data removed]",
      "text/plain": [
       "<Figure size 640x480 with 1 Axes>"
      ]
     },
     "metadata": {},
     "output_type": "display_data"
    }
   ],
   "source": [
    "sns.regplot(x=gdp_and_internet_use_2014['Internet_Users_Pct'], y=gdp_and_internet_use_2014['GDP_Per_Capita'])"
   ]
  },
  {
   "cell_type": "code",
   "execution_count": 50,
   "id": "252eff86",
   "metadata": {},
   "outputs": [
    {
     "data": {
      "text/html": [
       "<div>\n",
       "<style scoped>\n",
       "    .dataframe tbody tr th:only-of-type {\n",
       "        vertical-align: middle;\n",
       "    }\n",
       "\n",
       "    .dataframe tbody tr th {\n",
       "        vertical-align: top;\n",
       "    }\n",
       "\n",
       "    .dataframe thead th {\n",
       "        text-align: right;\n",
       "    }\n",
       "</style>\n",
       "<table border=\"1\" class=\"dataframe\">\n",
       "  <thead>\n",
       "    <tr style=\"text-align: right;\">\n",
       "      <th></th>\n",
       "      <th>Country</th>\n",
       "      <th>Year</th>\n",
       "      <th>GDP_Per_Capita</th>\n",
       "      <th>Internet_Users_Pct</th>\n",
       "    </tr>\n",
       "  </thead>\n",
       "  <tbody>\n",
       "    <tr>\n",
       "      <th>4154</th>\n",
       "      <td>Luxembourg</td>\n",
       "      <td>2014</td>\n",
       "      <td>113313.578898</td>\n",
       "      <td>94.67</td>\n",
       "    </tr>\n",
       "    <tr>\n",
       "      <th>4187</th>\n",
       "      <td>Macao SAR, China</td>\n",
       "      <td>2014</td>\n",
       "      <td>151616.402364</td>\n",
       "      <td>NaN</td>\n",
       "    </tr>\n",
       "    <tr>\n",
       "      <th>5752</th>\n",
       "      <td>Qatar</td>\n",
       "      <td>2014</td>\n",
       "      <td>106141.326189</td>\n",
       "      <td>91.49</td>\n",
       "    </tr>\n",
       "    <tr>\n",
       "      <th>6114</th>\n",
       "      <td>Singapore</td>\n",
       "      <td>2014</td>\n",
       "      <td>87702.521984</td>\n",
       "      <td>82.00</td>\n",
       "    </tr>\n",
       "  </tbody>\n",
       "</table>\n",
       "</div>"
      ],
      "text/plain": [
       "               Country  Year  GDP_Per_Capita  Internet_Users_Pct\n",
       "4154        Luxembourg  2014   113313.578898               94.67\n",
       "4187  Macao SAR, China  2014   151616.402364                 NaN\n",
       "5752             Qatar  2014   106141.326189               91.49\n",
       "6114         Singapore  2014    87702.521984               82.00"
      ]
     },
     "execution_count": 50,
     "metadata": {},
     "output_type": "execute_result"
    }
   ],
   "source": [
    "gdp_internet_2014_outliers = gdp_and_internet_use_2014[gdp_and_internet_use_2014['GDP_Per_Capita'] > 80000]\n",
    "gdp_internet_2014_outliers"
   ]
  },
  {
   "cell_type": "markdown",
   "id": "8b34642a",
   "metadata": {},
   "source": [
    "# 24) *Stretch Question:** Use the `qcut` function from pandas (https://pandas.pydata.org/docs/reference/api/pandas.qcut.html) to divide countries in `gdp_per_capita_2014` into three groups based on their GDP per capita values. Label these groups as \"Low\", \"Medium\", and \"High\". Put these labels in a new column, named \"GDP_group\".\n"
   ]
  },
  {
   "cell_type": "code",
   "execution_count": 51,
   "id": "26ee5ed2",
   "metadata": {},
   "outputs": [
    {
     "name": "stderr",
     "output_type": "stream",
     "text": [
      "C:\\Users\\derek\\AppData\\Local\\Temp\\ipykernel_13660\\785690118.py:1: SettingWithCopyWarning: \n",
      "A value is trying to be set on a copy of a slice from a DataFrame.\n",
      "Try using .loc[row_indexer,col_indexer] = value instead\n",
      "\n",
      "See the caveats in the documentation: https://pandas.pydata.org/pandas-docs/stable/user_guide/indexing.html#returning-a-view-versus-a-copy\n",
      "  gdp_and_internet_use_2014.loc[:, 'GDP_group'] = pd.qcut(gdp_and_internet_use_2014['GDP_Per_Capita'], q=3, labels=['Low', 'Medium', 'High'])\n"
     ]
    },
    {
     "data": {
      "text/html": [
       "<div>\n",
       "<style scoped>\n",
       "    .dataframe tbody tr th:only-of-type {\n",
       "        vertical-align: middle;\n",
       "    }\n",
       "\n",
       "    .dataframe tbody tr th {\n",
       "        vertical-align: top;\n",
       "    }\n",
       "\n",
       "    .dataframe thead th {\n",
       "        text-align: right;\n",
       "    }\n",
       "</style>\n",
       "<table border=\"1\" class=\"dataframe\">\n",
       "  <thead>\n",
       "    <tr style=\"text-align: right;\">\n",
       "      <th></th>\n",
       "      <th>Country</th>\n",
       "      <th>Year</th>\n",
       "      <th>GDP_Per_Capita</th>\n",
       "      <th>Internet_Users_Pct</th>\n",
       "      <th>GDP_group</th>\n",
       "    </tr>\n",
       "  </thead>\n",
       "  <tbody>\n",
       "    <tr>\n",
       "      <th>7</th>\n",
       "      <td>Afghanistan</td>\n",
       "      <td>2014</td>\n",
       "      <td>2144.449634</td>\n",
       "      <td>6.39</td>\n",
       "      <td>Low</td>\n",
       "    </tr>\n",
       "    <tr>\n",
       "      <th>28</th>\n",
       "      <td>Africa Eastern and Southern</td>\n",
       "      <td>2014</td>\n",
       "      <td>3642.875373</td>\n",
       "      <td>NaN</td>\n",
       "      <td>Low</td>\n",
       "    </tr>\n",
       "    <tr>\n",
       "      <th>61</th>\n",
       "      <td>Africa Western and Central</td>\n",
       "      <td>2014</td>\n",
       "      <td>4146.994622</td>\n",
       "      <td>NaN</td>\n",
       "      <td>Low</td>\n",
       "    </tr>\n",
       "    <tr>\n",
       "      <th>94</th>\n",
       "      <td>Albania</td>\n",
       "      <td>2014</td>\n",
       "      <td>11586.817446</td>\n",
       "      <td>60.10</td>\n",
       "      <td>Medium</td>\n",
       "    </tr>\n",
       "    <tr>\n",
       "      <th>127</th>\n",
       "      <td>Algeria</td>\n",
       "      <td>2014</td>\n",
       "      <td>11561.259795</td>\n",
       "      <td>18.09</td>\n",
       "      <td>Medium</td>\n",
       "    </tr>\n",
       "    <tr>\n",
       "      <th>...</th>\n",
       "      <td>...</td>\n",
       "      <td>...</td>\n",
       "      <td>...</td>\n",
       "      <td>...</td>\n",
       "      <td>...</td>\n",
       "    </tr>\n",
       "    <tr>\n",
       "      <th>8589</th>\n",
       "      <td>T.F.Y.R. Macedonia</td>\n",
       "      <td>2014</td>\n",
       "      <td>NaN</td>\n",
       "      <td>68.06</td>\n",
       "      <td>NaN</td>\n",
       "    </tr>\n",
       "    <tr>\n",
       "      <th>8647</th>\n",
       "      <td>Turkey</td>\n",
       "      <td>2014</td>\n",
       "      <td>NaN</td>\n",
       "      <td>51.04</td>\n",
       "      <td>NaN</td>\n",
       "    </tr>\n",
       "    <tr>\n",
       "      <th>8670</th>\n",
       "      <td>Venezuela</td>\n",
       "      <td>2014</td>\n",
       "      <td>NaN</td>\n",
       "      <td>57.00</td>\n",
       "      <td>NaN</td>\n",
       "    </tr>\n",
       "    <tr>\n",
       "      <th>8694</th>\n",
       "      <td>Virgin Islands (U.S.)</td>\n",
       "      <td>2014</td>\n",
       "      <td>NaN</td>\n",
       "      <td>50.07</td>\n",
       "      <td>NaN</td>\n",
       "    </tr>\n",
       "    <tr>\n",
       "      <th>8716</th>\n",
       "      <td>Yemen</td>\n",
       "      <td>2014</td>\n",
       "      <td>NaN</td>\n",
       "      <td>22.55</td>\n",
       "      <td>NaN</td>\n",
       "    </tr>\n",
       "  </tbody>\n",
       "</table>\n",
       "<p>281 rows × 5 columns</p>\n",
       "</div>"
      ],
      "text/plain": [
       "                          Country  Year  GDP_Per_Capita  Internet_Users_Pct  \\\n",
       "7                     Afghanistan  2014     2144.449634                6.39   \n",
       "28    Africa Eastern and Southern  2014     3642.875373                 NaN   \n",
       "61     Africa Western and Central  2014     4146.994622                 NaN   \n",
       "94                        Albania  2014    11586.817446               60.10   \n",
       "127                       Algeria  2014    11561.259795               18.09   \n",
       "...                           ...   ...             ...                 ...   \n",
       "8589           T.F.Y.R. Macedonia  2014             NaN               68.06   \n",
       "8647                       Turkey  2014             NaN               51.04   \n",
       "8670                    Venezuela  2014             NaN               57.00   \n",
       "8694        Virgin Islands (U.S.)  2014             NaN               50.07   \n",
       "8716                        Yemen  2014             NaN               22.55   \n",
       "\n",
       "     GDP_group  \n",
       "7          Low  \n",
       "28         Low  \n",
       "61         Low  \n",
       "94      Medium  \n",
       "127     Medium  \n",
       "...        ...  \n",
       "8589       NaN  \n",
       "8647       NaN  \n",
       "8670       NaN  \n",
       "8694       NaN  \n",
       "8716       NaN  \n",
       "\n",
       "[281 rows x 5 columns]"
      ]
     },
     "execution_count": 51,
     "metadata": {},
     "output_type": "execute_result"
    }
   ],
   "source": [
    "gdp_and_internet_use_2014.loc[:, 'GDP_group'] = pd.qcut(gdp_and_internet_use_2014['GDP_Per_Capita'], q=3, labels=['Low', 'Medium', 'High'])\n",
    "gdp_and_internet_use_2014"
   ]
  },
  {
   "cell_type": "markdown",
   "id": "a421c1bd",
   "metadata": {},
   "source": [
    "# 25) **Stretch Question:** How does the median internet users percentage compare for the three gdp groups?"
   ]
  },
  {
   "cell_type": "code",
   "execution_count": 52,
   "id": "121bda2a",
   "metadata": {},
   "outputs": [
    {
     "name": "stderr",
     "output_type": "stream",
     "text": [
      "C:\\Users\\derek\\AppData\\Local\\Temp\\ipykernel_13660\\2428575825.py:1: FutureWarning: The default of observed=False is deprecated and will be changed to True in a future version of pandas. Pass observed=False to retain current behavior or observed=True to adopt the future default and silence this warning.\n",
      "  gdp_group_internet_median = gdp_and_internet_use_2014.groupby('GDP_group')['Internet_Users_Pct'].median().reset_index()\n"
     ]
    },
    {
     "data": {
      "text/html": [
       "<div>\n",
       "<style scoped>\n",
       "    .dataframe tbody tr th:only-of-type {\n",
       "        vertical-align: middle;\n",
       "    }\n",
       "\n",
       "    .dataframe tbody tr th {\n",
       "        vertical-align: top;\n",
       "    }\n",
       "\n",
       "    .dataframe thead th {\n",
       "        text-align: right;\n",
       "    }\n",
       "</style>\n",
       "<table border=\"1\" class=\"dataframe\">\n",
       "  <thead>\n",
       "    <tr style=\"text-align: right;\">\n",
       "      <th></th>\n",
       "      <th>GDP_group</th>\n",
       "      <th>Median_Internet_Pct</th>\n",
       "    </tr>\n",
       "  </thead>\n",
       "  <tbody>\n",
       "    <tr>\n",
       "      <th>0</th>\n",
       "      <td>Low</td>\n",
       "      <td>10.6</td>\n",
       "    </tr>\n",
       "    <tr>\n",
       "      <th>1</th>\n",
       "      <td>Medium</td>\n",
       "      <td>43.4</td>\n",
       "    </tr>\n",
       "    <tr>\n",
       "      <th>2</th>\n",
       "      <td>High</td>\n",
       "      <td>78.7</td>\n",
       "    </tr>\n",
       "  </tbody>\n",
       "</table>\n",
       "</div>"
      ],
      "text/plain": [
       "  GDP_group  Median_Internet_Pct\n",
       "0       Low                 10.6\n",
       "1    Medium                 43.4\n",
       "2      High                 78.7"
      ]
     },
     "execution_count": 52,
     "metadata": {},
     "output_type": "execute_result"
    }
   ],
   "source": [
    "gdp_group_internet_median = gdp_and_internet_use_2014.groupby('GDP_group')['Internet_Users_Pct'].median().reset_index()\n",
    "gdp_group_internet_median.rename(columns={'Internet_Users_Pct': 'Median_Internet_Pct'})"
   ]
  },
  {
   "cell_type": "code",
   "execution_count": null,
   "id": "85efa84e",
   "metadata": {},
   "outputs": [],
   "source": []
  }
 ],
 "metadata": {
  "kernelspec": {
   "display_name": "Python 3 (ipykernel)",
   "language": "python",
   "name": "python3"
  },
  "language_info": {
   "codemirror_mode": {
    "name": "ipython",
    "version": 3
   },
   "file_extension": ".py",
   "mimetype": "text/x-python",
   "name": "python",
   "nbconvert_exporter": "python",
   "pygments_lexer": "ipython3",
   "version": "3.11.7"
  }
 },
 "nbformat": 4,
 "nbformat_minor": 5
}
