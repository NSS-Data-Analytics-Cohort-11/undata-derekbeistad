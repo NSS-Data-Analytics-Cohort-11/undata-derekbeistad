{
 "cells": [
  {
   "cell_type": "markdown",
   "id": "6281d2d8-3d85-4b74-b4bc-8a9a04d7f85b",
   "metadata": {},
   "source": [
    "## Imports"
   ]
  },
  {
   "cell_type": "code",
   "execution_count": 1,
   "id": "f904d0d8-5ef2-46e3-9b84-453f291fb52b",
   "metadata": {},
   "outputs": [],
   "source": [
    "import pandas as pd\n",
    "import numpy as np\n",
    "import matplotlib.pyplot as plt\n",
    "import seaborn as sns"
   ]
  },
  {
   "cell_type": "markdown",
   "id": "30e7db2c-748b-41df-9982-dd80117be9a4",
   "metadata": {},
   "source": [
    "# 4) Load data\n",
    "#### Top 5 rows"
   ]
  },
  {
   "cell_type": "code",
   "execution_count": 2,
   "id": "348b3867-c32c-411e-a6e7-dd4a76232379",
   "metadata": {
    "scrolled": true
   },
   "outputs": [
    {
     "data": {
      "text/html": [
       "<div>\n",
       "<style scoped>\n",
       "    .dataframe tbody tr th:only-of-type {\n",
       "        vertical-align: middle;\n",
       "    }\n",
       "\n",
       "    .dataframe tbody tr th {\n",
       "        vertical-align: top;\n",
       "    }\n",
       "\n",
       "    .dataframe thead th {\n",
       "        text-align: right;\n",
       "    }\n",
       "</style>\n",
       "<table border=\"1\" class=\"dataframe\">\n",
       "  <thead>\n",
       "    <tr style=\"text-align: right;\">\n",
       "      <th></th>\n",
       "      <th>Country or Area</th>\n",
       "      <th>Year</th>\n",
       "      <th>Value</th>\n",
       "      <th>Value Footnotes</th>\n",
       "    </tr>\n",
       "  </thead>\n",
       "  <tbody>\n",
       "    <tr>\n",
       "      <th>0</th>\n",
       "      <td>Afghanistan</td>\n",
       "      <td>2021</td>\n",
       "      <td>1517.016266</td>\n",
       "      <td>NaN</td>\n",
       "    </tr>\n",
       "    <tr>\n",
       "      <th>1</th>\n",
       "      <td>Afghanistan</td>\n",
       "      <td>2020</td>\n",
       "      <td>1968.341002</td>\n",
       "      <td>NaN</td>\n",
       "    </tr>\n",
       "    <tr>\n",
       "      <th>2</th>\n",
       "      <td>Afghanistan</td>\n",
       "      <td>2019</td>\n",
       "      <td>2079.921861</td>\n",
       "      <td>NaN</td>\n",
       "    </tr>\n",
       "    <tr>\n",
       "      <th>3</th>\n",
       "      <td>Afghanistan</td>\n",
       "      <td>2018</td>\n",
       "      <td>2060.698973</td>\n",
       "      <td>NaN</td>\n",
       "    </tr>\n",
       "    <tr>\n",
       "      <th>4</th>\n",
       "      <td>Afghanistan</td>\n",
       "      <td>2017</td>\n",
       "      <td>2096.093111</td>\n",
       "      <td>NaN</td>\n",
       "    </tr>\n",
       "  </tbody>\n",
       "</table>\n",
       "</div>"
      ],
      "text/plain": [
       "  Country or Area  Year        Value  Value Footnotes\n",
       "0     Afghanistan  2021  1517.016266              NaN\n",
       "1     Afghanistan  2020  1968.341002              NaN\n",
       "2     Afghanistan  2019  2079.921861              NaN\n",
       "3     Afghanistan  2018  2060.698973              NaN\n",
       "4     Afghanistan  2017  2096.093111              NaN"
      ]
     },
     "execution_count": 2,
     "metadata": {},
     "output_type": "execute_result"
    }
   ],
   "source": [
    "gdp_df = pd.read_csv(\"../data/gdp_percapita.csv\")\n",
    "gdp_df.head()"
   ]
  },
  {
   "cell_type": "markdown",
   "id": "52a78432-6d3a-4421-9f7f-bb41591b425b",
   "metadata": {},
   "source": [
    "#### bottom 5 rows"
   ]
  },
  {
   "cell_type": "code",
   "execution_count": 3,
   "id": "f02b5984-0449-4e55-9d50-7cca82bec7e7",
   "metadata": {
    "scrolled": true
   },
   "outputs": [
    {
     "data": {
      "text/html": [
       "<div>\n",
       "<style scoped>\n",
       "    .dataframe tbody tr th:only-of-type {\n",
       "        vertical-align: middle;\n",
       "    }\n",
       "\n",
       "    .dataframe tbody tr th {\n",
       "        vertical-align: top;\n",
       "    }\n",
       "\n",
       "    .dataframe thead th {\n",
       "        text-align: right;\n",
       "    }\n",
       "</style>\n",
       "<table border=\"1\" class=\"dataframe\">\n",
       "  <thead>\n",
       "    <tr style=\"text-align: right;\">\n",
       "      <th></th>\n",
       "      <th>Country or Area</th>\n",
       "      <th>Year</th>\n",
       "      <th>Value</th>\n",
       "      <th>Value Footnotes</th>\n",
       "    </tr>\n",
       "  </thead>\n",
       "  <tbody>\n",
       "    <tr>\n",
       "      <th>7657</th>\n",
       "      <td>Zimbabwe</td>\n",
       "      <td>1994</td>\n",
       "      <td>2670.106615</td>\n",
       "      <td>NaN</td>\n",
       "    </tr>\n",
       "    <tr>\n",
       "      <th>7658</th>\n",
       "      <td>Zimbabwe</td>\n",
       "      <td>1993</td>\n",
       "      <td>2458.783255</td>\n",
       "      <td>NaN</td>\n",
       "    </tr>\n",
       "    <tr>\n",
       "      <th>7659</th>\n",
       "      <td>Zimbabwe</td>\n",
       "      <td>1992</td>\n",
       "      <td>2468.278257</td>\n",
       "      <td>NaN</td>\n",
       "    </tr>\n",
       "    <tr>\n",
       "      <th>7660</th>\n",
       "      <td>Zimbabwe</td>\n",
       "      <td>1991</td>\n",
       "      <td>2781.787843</td>\n",
       "      <td>NaN</td>\n",
       "    </tr>\n",
       "    <tr>\n",
       "      <th>7661</th>\n",
       "      <td>Zimbabwe</td>\n",
       "      <td>1990</td>\n",
       "      <td>2704.757299</td>\n",
       "      <td>NaN</td>\n",
       "    </tr>\n",
       "  </tbody>\n",
       "</table>\n",
       "</div>"
      ],
      "text/plain": [
       "     Country or Area  Year        Value  Value Footnotes\n",
       "7657        Zimbabwe  1994  2670.106615              NaN\n",
       "7658        Zimbabwe  1993  2458.783255              NaN\n",
       "7659        Zimbabwe  1992  2468.278257              NaN\n",
       "7660        Zimbabwe  1991  2781.787843              NaN\n",
       "7661        Zimbabwe  1990  2704.757299              NaN"
      ]
     },
     "execution_count": 3,
     "metadata": {},
     "output_type": "execute_result"
    }
   ],
   "source": [
    "gdp_df.tail()"
   ]
  },
  {
   "cell_type": "markdown",
   "id": "ecf0f892-67d8-4432-ac16-f46fbfcdd4fa",
   "metadata": {},
   "source": [
    "# 5) gdp_df INFO"
   ]
  },
  {
   "cell_type": "code",
   "execution_count": 4,
   "id": "fc4a4d53-d4cb-4e61-9ecd-482975d61b2e",
   "metadata": {},
   "outputs": [
    {
     "name": "stdout",
     "output_type": "stream",
     "text": [
      "<class 'pandas.core.frame.DataFrame'>\n",
      "RangeIndex: 7662 entries, 0 to 7661\n",
      "Data columns (total 4 columns):\n",
      " #   Column           Non-Null Count  Dtype  \n",
      "---  ------           --------------  -----  \n",
      " 0   Country or Area  7662 non-null   object \n",
      " 1   Year             7662 non-null   int64  \n",
      " 2   Value            7662 non-null   float64\n",
      " 3   Value Footnotes  0 non-null      float64\n",
      "dtypes: float64(2), int64(1), object(1)\n",
      "memory usage: 239.6+ KB\n"
     ]
    }
   ],
   "source": [
    "gdp_df.info()"
   ]
  },
  {
   "cell_type": "markdown",
   "id": "107b97a9-0420-4215-9741-d6d2cf6fa457",
   "metadata": {},
   "source": [
    "# 6) Drop the Value Footnotes column and rename"
   ]
  },
  {
   "cell_type": "code",
   "execution_count": 5,
   "id": "9fcd4ede-5a06-44df-b8ad-4ccf25f8ba99",
   "metadata": {},
   "outputs": [
    {
     "name": "stdout",
     "output_type": "stream",
     "text": [
      "<class 'pandas.core.frame.DataFrame'>\n",
      "RangeIndex: 7662 entries, 0 to 7661\n",
      "Data columns (total 3 columns):\n",
      " #   Column          Non-Null Count  Dtype  \n",
      "---  ------          --------------  -----  \n",
      " 0   Country         7662 non-null   object \n",
      " 1   Year            7662 non-null   int64  \n",
      " 2   GDP_Per_Capita  7662 non-null   float64\n",
      "dtypes: float64(1), int64(1), object(1)\n",
      "memory usage: 179.7+ KB\n"
     ]
    }
   ],
   "source": [
    "gdp_df_clean = gdp_df.drop('Value Footnotes', axis=1)\n",
    "gdp_df_clean = gdp_df_clean.rename(columns={'Country or Area': 'Country', 'Value': 'GDP_Per_Capita'})\n",
    "gdp_df_clean.info()"
   ]
  },
  {
   "cell_type": "markdown",
   "id": "3863183a-506f-4283-95c6-d583b979b097",
   "metadata": {},
   "source": [
    "# 7)How many countries have data for all years? Which countries are missing many years of data?"
   ]
  },
  {
   "cell_type": "code",
   "execution_count": 6,
   "id": "5d6233ad-d4e3-4f22-9f91-5e83c86d242c",
   "metadata": {},
   "outputs": [
    {
     "name": "stdout",
     "output_type": "stream",
     "text": [
      "Total number of years: 33\n"
     ]
    }
   ],
   "source": [
    "gdp_df_clean['Year'].agg(['min', 'max'])\n",
    "num_years = gdp_df_clean['Year'].max() +1  - gdp_df_clean['Year'].min()\n",
    "print('Total number of years: ' + str(num_years))"
   ]
  },
  {
   "cell_type": "code",
   "execution_count": 7,
   "id": "e8b2cf4a-3dd1-4497-abd3-52f95bfa06ed",
   "metadata": {},
   "outputs": [],
   "source": [
    "countries_year_count = gdp_df_clean['Country'].value_counts().reset_index()"
   ]
  },
  {
   "cell_type": "code",
   "execution_count": 8,
   "id": "f2ac67c4-4979-4d84-8d0a-44df946ab359",
   "metadata": {},
   "outputs": [
    {
     "name": "stdout",
     "output_type": "stream",
     "text": [
      "202 have data for all years\n",
      "40 do not have data for all years\n"
     ]
    }
   ],
   "source": [
    "n = 0\n",
    "m = 0\n",
    "for year_count in countries_year_count['count']:\n",
    "    if year_count == num_years:\n",
    "        n += 1\n",
    "    else:\n",
    "        m += 1\n",
    "print(str(n) + ' have data for all years')\n",
    "print(str(m) + ' do not have data for all years')"
   ]
  },
  {
   "cell_type": "markdown",
   "id": "434a49a3-22b0-4029-8fcf-b097c1fb8e58",
   "metadata": {},
   "source": [
    "#### 202 have data for all years  \n",
    "40 do not have data for all years"
   ]
  },
  {
   "cell_type": "code",
   "execution_count": 9,
   "id": "fac8e9e5-568e-4e26-9802-f89be993d67f",
   "metadata": {},
   "outputs": [],
   "source": [
    "countries_all_years = pd.array(countries_year_count[countries_year_count['count'] == num_years]['Country'])\n",
    "countries_missing_years = pd.array(countries_year_count[countries_year_count['count'] != num_years]['Country'])"
   ]
  },
  {
   "cell_type": "markdown",
   "id": "7b527be4-71a1-4112-bdcd-96286cfc3b6b",
   "metadata": {},
   "source": [
    "#### Num of Countries with all years"
   ]
  },
  {
   "cell_type": "code",
   "execution_count": 10,
   "id": "ea0952b3-f149-4408-ae08-30b3b8d93bee",
   "metadata": {},
   "outputs": [
    {
     "data": {
      "text/plain": [
       "202"
      ]
     },
     "execution_count": 10,
     "metadata": {},
     "output_type": "execute_result"
    }
   ],
   "source": [
    "len(countries_all_years)"
   ]
  },
  {
   "cell_type": "markdown",
   "id": "ff82daa7-7345-475f-b1bb-7b600e9ae02c",
   "metadata": {},
   "source": [
    "#### Num of Countries missing years"
   ]
  },
  {
   "cell_type": "code",
   "execution_count": 11,
   "id": "855be308-82dc-4a63-8855-2107239d5b17",
   "metadata": {},
   "outputs": [
    {
     "data": {
      "text/plain": [
       "40"
      ]
     },
     "execution_count": 11,
     "metadata": {},
     "output_type": "execute_result"
    }
   ],
   "source": [
    "len(countries_missing_years)"
   ]
  },
  {
   "cell_type": "markdown",
   "id": "f6615dad-75c5-40b0-ac30-762a69c0c2c8",
   "metadata": {},
   "source": [
    "#### List of Countries with all years"
   ]
  },
  {
   "cell_type": "code",
   "execution_count": 12,
   "id": "c0a24105-127f-4a80-b842-a664228ef15d",
   "metadata": {},
   "outputs": [],
   "source": [
    "# countries_all_years"
   ]
  },
  {
   "cell_type": "markdown",
   "id": "bccb6fbb-f159-4c0f-8d23-790c56b78032",
   "metadata": {},
   "source": [
    "#### List of Countries missing years"
   ]
  },
  {
   "cell_type": "code",
   "execution_count": 13,
   "id": "758a9857-92c2-4f4e-b24f-7bc58c421415",
   "metadata": {},
   "outputs": [],
   "source": [
    "# countries_missing_years"
   ]
  },
  {
   "cell_type": "markdown",
   "id": "a55605d1-b287-44ed-8a78-866b37737f7d",
   "metadata": {},
   "source": [
    "# 8)  create some plots to show the distribution of GDP per capita for the year 2020"
   ]
  },
  {
   "cell_type": "markdown",
   "id": "c81365cf-5e54-438e-8bcb-7d996c63ab74",
   "metadata": {},
   "source": [
    "###  Create a histogram, a density plot, a boxplot, and a violin plotZ"
   ]
  },
  {
   "cell_type": "code",
   "execution_count": 14,
   "id": "e2ecb166-a81f-4ed9-ac4e-947b73cbefda",
   "metadata": {},
   "outputs": [],
   "source": [
    "gdp_2020 = gdp_df_clean[gdp_df_clean['Year'] == 2020]"
   ]
  },
  {
   "cell_type": "markdown",
   "id": "6aa3162b-9e87-4f5d-93d2-1d512483d1df",
   "metadata": {},
   "source": [
    "#### Histogram"
   ]
  },
  {
   "cell_type": "code",
   "execution_count": 15,
   "id": "cdf3eac3-b81b-4a1e-9a4d-363dd85bc4d7",
   "metadata": {},
   "outputs": [
    {
     "name": "stderr",
     "output_type": "stream",
     "text": [
      "C:\\Users\\derek\\anaconda3\\Lib\\site-packages\\seaborn\\_oldcore.py:1119: FutureWarning: use_inf_as_na option is deprecated and will be removed in a future version. Convert inf values to NaN before operating instead.\n",
      "  with pd.option_context('mode.use_inf_as_na', True):\n"
     ]
    },
    {
     "data": {
      "text/plain": [
       "<seaborn.axisgrid.FacetGrid at 0x2e497583f10>"
      ]
     },
     "execution_count": 15,
     "metadata": {},
     "output_type": "execute_result"
    },
    {
     "data": {
      "image/png": "[encoded data removed]",
      "text/plain": [
       "<Figure size 500x500 with 1 Axes>"
      ]
     },
     "metadata": {},
     "output_type": "display_data"
    }
   ],
   "source": [
    "# Plot the histogram thanks to the displot function\n",
    "\n",
    "sns.displot( data=gdp_2020['GDP_Per_Capita'],\n",
    "            kde=True )"
   ]
  },
  {
   "cell_type": "markdown",
   "id": "52959bc9-a7e3-432a-aaa5-622dd75e23b3",
   "metadata": {},
   "source": [
    "#### Density Plot"
   ]
  },
  {
   "cell_type": "code",
   "execution_count": 16,
   "id": "14eaddee-53e0-4ce1-8c22-bcbe00a912a8",
   "metadata": {},
   "outputs": [
    {
     "name": "stderr",
     "output_type": "stream",
     "text": [
      "C:\\Users\\derek\\anaconda3\\Lib\\site-packages\\seaborn\\_oldcore.py:1119: FutureWarning: use_inf_as_na option is deprecated and will be removed in a future version. Convert inf values to NaN before operating instead.\n",
      "  with pd.option_context('mode.use_inf_as_na', True):\n"
     ]
    },
    {
     "data": {
      "text/plain": [
       "<Axes: xlabel='GDP_Per_Capita', ylabel='Density'>"
      ]
     },
     "execution_count": 16,
     "metadata": {},
     "output_type": "execute_result"
    },
    {
     "data": {
      "image/png": "[encoded data removed]",
      "text/plain": [
       "<Figure size 640x480 with 1 Axes>"
      ]
     },
     "metadata": {},
     "output_type": "display_data"
    }
   ],
   "source": [
    "sns.kdeplot(gdp_2020['GDP_Per_Capita'],\n",
    "            fill=True)"
   ]
  },
  {
   "cell_type": "markdown",
   "id": "ebccd22e-0d5f-4d12-9bf1-7906b68ed5c4",
   "metadata": {},
   "source": [
    "#### Box Plot"
   ]
  },
  {
   "cell_type": "code",
   "execution_count": 17,
   "id": "36dda8c0-b35a-4a1f-a93f-39b89bf8c896",
   "metadata": {},
   "outputs": [
    {
     "data": {
      "text/plain": [
       "<Axes: ylabel='GDP_Per_Capita'>"
      ]
     },
     "execution_count": 17,
     "metadata": {},
     "output_type": "execute_result"
    },
    {
     "data": {
      "image/png": "[encoded data removed]",
      "text/plain": [
       "<Figure size 640x480 with 1 Axes>"
      ]
     },
     "metadata": {},
     "output_type": "display_data"
    }
   ],
   "source": [
    "sns.boxplot(y=gdp_2020['GDP_Per_Capita'])"
   ]
  },
  {
   "cell_type": "markdown",
   "id": "991e6276-8e80-4510-ac30-07602c09ed5f",
   "metadata": {},
   "source": [
    "#### Violin Plot"
   ]
  },
  {
   "cell_type": "code",
   "execution_count": 18,
   "id": "c7e2ef9e-ecbf-43e6-87f0-111f81deb542",
   "metadata": {},
   "outputs": [
    {
     "data": {
      "text/plain": [
       "<Axes: ylabel='GDP_Per_Capita'>"
      ]
     },
     "execution_count": 18,
     "metadata": {},
     "output_type": "execute_result"
    },
    {
     "data": {
      "image/png": "[encoded data removed]",
      "text/plain": [
       "<Figure size 640x480 with 1 Axes>"
      ]
     },
     "metadata": {},
     "output_type": "display_data"
    }
   ],
   "source": [
    "sns.violinplot(y=gdp_2020['GDP_Per_Capita'])"
   ]
  },
  {
   "cell_type": "markdown",
   "id": "eb6290ba-9c54-43e5-8b71-ef074e87685e",
   "metadata": {},
   "source": [
    "### These plots all show the same information in different ways."
   ]
  },
  {
   "cell_type": "markdown",
   "id": "ef25376e-972b-4cf9-93a3-98a45a746f1a",
   "metadata": {},
   "source": [
    "### a vast majority of the GDP's are below 20,000"
   ]
  },
  {
   "cell_type": "markdown",
   "id": "510d5f60-041c-4588-af93-ff049e805478",
   "metadata": {},
   "source": [
    "# 9) What was the median GDP per capita value in 2020?"
   ]
  },
  {
   "cell_type": "code",
   "execution_count": 19,
   "id": "9d8c7980-53cf-4860-b183-7e2e591a00d7",
   "metadata": {},
   "outputs": [
    {
     "data": {
      "text/plain": [
       "13358.0"
      ]
     },
     "execution_count": 19,
     "metadata": {},
     "output_type": "execute_result"
    }
   ],
   "source": [
    "round(gdp_2020['GDP_Per_Capita'].median(), 2)"
   ]
  },
  {
   "cell_type": "markdown",
   "id": "af2334a9-e630-4c35-9a46-861b32d0c7ad",
   "metadata": {},
   "source": [
    "## 10) Compare GDP per capita values for the years 1990, 2000, 2010, and 2020. Start by subsetting your data to just these 4 years into a new DataFrame named gdp_decades. Using this, create the following 4 plots:"
   ]
  },
  {
   "cell_type": "code",
   "execution_count": 20,
   "id": "6e164c1e-ee40-4ca2-b643-1b4d18309a3a",
   "metadata": {},
   "outputs": [],
   "source": [
    "gdp_decades = gdp_df_clean[gdp_df_clean['Year'].isin([1990, 2000, 2010, 2020])]"
   ]
  },
  {
   "cell_type": "markdown",
   "id": "7d16c47d-b5a4-4c78-92d8-0da2956ed793",
   "metadata": {},
   "source": [
    "#### Boxplot"
   ]
  },
  {
   "cell_type": "code",
   "execution_count": 21,
   "id": "53b7f72b-a826-4375-84f5-58c400a7ceb7",
   "metadata": {},
   "outputs": [
    {
     "data": {
      "text/plain": [
       "<Axes: xlabel='Year', ylabel='GDP_Per_Capita'>"
      ]
     },
     "execution_count": 21,
     "metadata": {},
     "output_type": "execute_result"
    },
    {
     "data": {
      "image/png": "[encoded data removed]",
      "text/plain": [
       "<Figure size 640x480 with 1 Axes>"
      ]
     },
     "metadata": {},
     "output_type": "display_data"
    }
   ],
   "source": [
    "sns.boxplot(x=gdp_decades['Year'], y=gdp_decades['GDP_Per_Capita'])"
   ]
  },
  {
   "cell_type": "markdown",
   "id": "3a4dfca6-1798-46ee-b9d7-99c45bd03beb",
   "metadata": {},
   "source": [
    "#### Bar Chart"
   ]
  },
  {
   "cell_type": "code",
   "execution_count": 22,
   "id": "51480496-2078-4c8e-a408-017bfefa8521",
   "metadata": {},
   "outputs": [
    {
     "data": {
      "text/plain": [
       "<Axes: xlabel='Year', ylabel='GDP_Per_Capita'>"
      ]
     },
     "execution_count": 22,
     "metadata": {},
     "output_type": "execute_result"
    },
    {
     "data": {
      "image/png": "[encoded data removed]",
      "text/plain": [
       "<Figure size 640x480 with 1 Axes>"
      ]
     },
     "metadata": {},
     "output_type": "display_data"
    }
   ],
   "source": [
    "sns.barplot(\n",
    "    x=\"Year\", \n",
    "    y=\"GDP_Per_Capita\", \n",
    "    data=gdp_decades,\n",
    "    errorbar=None)"
   ]
  },
  {
   "cell_type": "markdown",
   "id": "89a72899-2648-4608-81ec-59ea3e795851",
   "metadata": {},
   "source": [
    "#### Scatterplot"
   ]
  },
  {
   "cell_type": "code",
   "execution_count": 23,
   "id": "c76503ca-a6c5-4d35-a0fd-c5399d115abb",
   "metadata": {},
   "outputs": [
    {
     "data": {
      "text/plain": [
       "<Axes: xlabel='Year', ylabel='GDP_Per_Capita'>"
      ]
     },
     "execution_count": 23,
     "metadata": {},
     "output_type": "execute_result"
    },
    {
     "data": {
      "image/png": "[encoded data removed]",
      "text/plain": [
       "<Figure size 640x480 with 1 Axes>"
      ]
     },
     "metadata": {},
     "output_type": "display_data"
    }
   ],
   "source": [
    "sns.regplot(x=gdp_decades['Year'],\n",
    "            y=gdp_decades['GDP_Per_Capita'],\n",
    "           fit_reg=False)"
   ]
  },
  {
   "cell_type": "markdown",
   "id": "4862bbfe-87b8-4a1c-ae3d-bc2f201a559d",
   "metadata": {},
   "source": [
    "#### Scatterplot with Regression Line"
   ]
  },
  {
   "cell_type": "code",
   "execution_count": 24,
   "id": "181ab647-477f-4afe-858a-6faf5be8a224",
   "metadata": {},
   "outputs": [
    {
     "data": {
      "text/plain": [
       "<Axes: xlabel='Year', ylabel='GDP_Per_Capita'>"
      ]
     },
     "execution_count": 24,
     "metadata": {},
     "output_type": "execute_result"
    },
    {
     "data": {
      "image/png": "[encoded data removed]",
      "text/plain": [
       "<Figure size 640x480 with 1 Axes>"
      ]
     },
     "metadata": {},
     "output_type": "display_data"
    }
   ],
   "source": [
    "sns.regplot(x=gdp_decades['Year'],\n",
    "            y=gdp_decades['GDP_Per_Capita'],\n",
    "            line_kws={\n",
    "                        \"color\": \"r\",\n",
    "                        \"alpha\": 0.4,\n",
    "                        \"lw\": 2,\n",
    "                        \"ls\": \"--\"\n",
    "                        }\n",
    "           )"
   ]
  },
  {
   "cell_type": "markdown",
   "id": "a5333bc5-0e02-4963-b415-1b755b1ccedf",
   "metadata": {},
   "source": [
    "#### All of these graphs show that the gdp is increasing over the decades"
   ]
  },
  {
   "cell_type": "markdown",
   "id": "2cf9a3c4-faa9-4865-b052-becba48ce3ef",
   "metadata": {},
   "source": [
    "#### Scatterplots can be helpful, but for this use-case, the scatter plot doesn't show us much until you add in the regression line."
   ]
  },
  {
   "cell_type": "markdown",
   "id": "7cd62d6a-1053-45b9-89f5-2dc0245bfaae",
   "metadata": {},
   "source": [
    "#### Both the box plot and the bar chart are helpful and easy to read and understand the change over the decades."
   ]
  },
  {
   "cell_type": "markdown",
   "id": "4866b85a-b77b-40a0-b145-962f30dff0fe",
   "metadata": {},
   "source": [
    "# 11) Which country was the first to have a GDP per capita greater than $100,000?"
   ]
  },
  {
   "cell_type": "code",
   "execution_count": 25,
   "id": "db8949a2-96c5-43d4-99b7-0af1163fe67b",
   "metadata": {},
   "outputs": [
    {
     "data": {
      "text/plain": [
       "Country           United Arab Emirates\n",
       "Year                              1990\n",
       "GDP_Per_Capita           105893.626059\n",
       "Name: 7302, dtype: object"
      ]
     },
     "execution_count": 25,
     "metadata": {},
     "output_type": "execute_result"
    }
   ],
   "source": [
    "gdp_greaterthan_100000 = gdp_df_clean[gdp_df_clean['GDP_Per_Capita'] > 100000]\n",
    "gdp_greaterthan_100000.loc[gdp_greaterthan_100000['Year'].idxmin()]"
   ]
  },
  {
   "cell_type": "markdown",
   "id": "fac6134e-4ae0-49f6-abec-cabb40dd3899",
   "metadata": {},
   "source": [
    "# 12) Which country had the highest GDP per capita in 2020?"
   ]
  },
  {
   "cell_type": "code",
   "execution_count": 33,
   "id": "7abcd385-d0a3-4d53-84b9-89475ed50768",
   "metadata": {},
   "outputs": [],
   "source": [
    "gdp_2020.sort_values('GDP_Per_Capita',\n",
    "                     ascending=False)\n",
    "\n",
    "highest_gdp_2020_country = gdp_2020.loc[gdp_2020['GDP_Per_Capita'].idxmax()]['Country']"
   ]
  },
  {
   "cell_type": "markdown",
   "id": "435ad1c2-c9da-4a92-b947-1b1fe48a8d1c",
   "metadata": {},
   "source": [
    "'Luxembourg'"
   ]
  },
  {
   "cell_type": "markdown",
   "id": "5166fca6-7b1e-469e-a5eb-cc073cc8ebae",
   "metadata": {},
   "source": [
    "## Create a plot showing how this country's GDP per capita has changed over the timespan of the dataset."
   ]
  },
  {
   "cell_type": "code",
   "execution_count": 40,
   "id": "62ce1123-0b13-497e-8171-951a06c28897",
   "metadata": {},
   "outputs": [],
   "source": [
    "gdp_highest_2020 = gdp_df_clean[gdp_df_clean['Country'] == highest_gdp_2020_country]"
   ]
  },
  {
   "cell_type": "code",
   "execution_count": 41,
   "id": "e2fcfce3-50d7-4caa-8a27-3a3156a44595",
   "metadata": {},
   "outputs": [
    {
     "data": {
      "image/png": "[encoded data removed]",
      "text/plain": [
       "<Figure size 800x600 with 1 Axes>"
      ]
     },
     "metadata": {},
     "output_type": "display_data"
    }
   ],
   "source": [
    "fig, ax = plt.subplots(figsize=(8, 6))\n",
    "ax.plot(gdp_luxembourg['Year'], gdp_highest_2020['GDP_Per_Capita']);"
   ]
  },
  {
   "cell_type": "markdown",
   "id": "148c5c3e-c249-4be6-82bb-b89e4697b5d9",
   "metadata": {},
   "source": [
    "# 13) Which country had the lowest GDP per capita in 2020? Create a plot showing how this country's GDP per capita has changed over the timespan of the dataset.\r\n",
    "\r\n"
   ]
  },
  {
   "cell_type": "code",
   "execution_count": 35,
   "id": "f7d92833-54d2-428e-ae93-a42b119a5a8e",
   "metadata": {
    "scrolled": true
   },
   "outputs": [
    {
     "data": {
      "text/html": [
       "<div>\n",
       "<style scoped>\n",
       "    .dataframe tbody tr th:only-of-type {\n",
       "        vertical-align: middle;\n",
       "    }\n",
       "\n",
       "    .dataframe tbody tr th {\n",
       "        vertical-align: top;\n",
       "    }\n",
       "\n",
       "    .dataframe thead th {\n",
       "        text-align: right;\n",
       "    }\n",
       "</style>\n",
       "<table border=\"1\" class=\"dataframe\">\n",
       "  <thead>\n",
       "    <tr style=\"text-align: right;\">\n",
       "      <th></th>\n",
       "      <th>Country</th>\n",
       "      <th>Year</th>\n",
       "      <th>GDP_Per_Capita</th>\n",
       "    </tr>\n",
       "  </thead>\n",
       "  <tbody>\n",
       "    <tr>\n",
       "      <th>1</th>\n",
       "      <td>Afghanistan</td>\n",
       "      <td>2020</td>\n",
       "      <td>1968.341002</td>\n",
       "    </tr>\n",
       "    <tr>\n",
       "      <th>22</th>\n",
       "      <td>Africa Eastern and Southern</td>\n",
       "      <td>2020</td>\n",
       "      <td>3455.023119</td>\n",
       "    </tr>\n",
       "    <tr>\n",
       "      <th>55</th>\n",
       "      <td>Africa Western and Central</td>\n",
       "      <td>2020</td>\n",
       "      <td>3957.933804</td>\n",
       "    </tr>\n",
       "    <tr>\n",
       "      <th>88</th>\n",
       "      <td>Albania</td>\n",
       "      <td>2020</td>\n",
       "      <td>13278.369769</td>\n",
       "    </tr>\n",
       "    <tr>\n",
       "      <th>121</th>\n",
       "      <td>Algeria</td>\n",
       "      <td>2020</td>\n",
       "      <td>10844.770764</td>\n",
       "    </tr>\n",
       "  </tbody>\n",
       "</table>\n",
       "</div>"
      ],
      "text/plain": [
       "                         Country  Year  GDP_Per_Capita\n",
       "1                    Afghanistan  2020     1968.341002\n",
       "22   Africa Eastern and Southern  2020     3455.023119\n",
       "55    Africa Western and Central  2020     3957.933804\n",
       "88                       Albania  2020    13278.369769\n",
       "121                      Algeria  2020    10844.770764"
      ]
     },
     "execution_count": 35,
     "metadata": {},
     "output_type": "execute_result"
    }
   ],
   "source": [
    "gdp_2020.head()"
   ]
  },
  {
   "cell_type": "code",
   "execution_count": 42,
   "id": "ee13bbc8-2ad5-4a95-9ad3-83eff8acdfe3",
   "metadata": {
    "scrolled": true
   },
   "outputs": [],
   "source": [
    "lowest_gdp_2020_country = gdp_2020.loc[gdp_2020['GDP_Per_Capita'].idxmin()]['Country']"
   ]
  },
  {
   "cell_type": "markdown",
   "id": "7deff045-020e-40db-ae91-01bfd9959a71",
   "metadata": {},
   "source": [
    "'Burundi'"
   ]
  },
  {
   "cell_type": "code",
   "execution_count": 49,
   "id": "0327391e-993c-44be-8709-761b365d39f2",
   "metadata": {},
   "outputs": [
    {
     "data": {
      "text/plain": [
       "[<matplotlib.lines.Line2D at 0x2e49f19dcd0>]"
      ]
     },
     "execution_count": 49,
     "metadata": {},
     "output_type": "execute_result"
    },
    {
     "data": {
      "image/png": "[encoded data removed]",
      "text/plain": [
       "<Figure size 800x600 with 1 Axes>"
      ]
     },
     "metadata": {},
     "output_type": "display_data"
    }
   ],
   "source": [
    "gdp_lowest_2020 = gdp_df_clean[gdp_df_clean['Country'] == lowest_gdp_2020_country]\n",
    "fig1, ax1 = plt.subplots(figsize=(8, 6))\n",
    "ax1.plot(gdp_luxembourg['Year'], gdp_lowest_2020['GDP_Per_Capita'])"
   ]
  },
  {
   "cell_type": "markdown",
   "id": "117e7d7a-f099-4487-b394-0b098c19eb74",
   "metadata": {},
   "source": [
    "## 13 BONUS) Is it true in general that coutries had a higher GDP per capita in 2020 than in 1990? Which countries had lower GDP per capita in 2020 than in 1990?"
   ]
  },
  {
   "cell_type": "code",
   "execution_count": 86,
   "id": "a1a15ff0-81a9-45f3-81ba-ff0a49021a01",
   "metadata": {},
   "outputs": [
    {
     "name": "stdout",
     "output_type": "stream",
     "text": [
      "1990 average gdp: 12506.08837386169\n",
      "2020 average gdp: 19586.75444556196\n"
     ]
    }
   ],
   "source": [
    "gdp_1990 = gdp_df_clean[gdp_df_clean['Year'] == 1990]\n",
    "print('1990 average gdp: ' + str(gdp_1990['GDP_Per_Capita'].mean()))\n",
    "print('2020 average gdp: ' + str(gdp_2020['GDP_Per_Capita'].mean()))"
   ]
  },
  {
   "cell_type": "markdown",
   "id": "9b6edea2-8859-4cf3-94e7-36ab18348385",
   "metadata": {},
   "source": [
    "##### The average GDP from 2020 is higher than 1990"
   ]
  },
  {
   "cell_type": "code",
   "execution_count": 134,
   "id": "ab9ce48c-cbf4-4bc4-900b-da57f7caa641",
   "metadata": {},
   "outputs": [
    {
     "name": "stdout",
     "output_type": "stream",
     "text": [
      "START\n",
      "Series([], Name: GDP_Per_Capita, dtype: bool)\n",
      "END\n",
      "START\n",
      "52    False\n",
      "Name: GDP_Per_Capita, dtype: bool\n",
      "END\n",
      "START\n",
      "85    False\n",
      "Name: GDP_Per_Capita, dtype: bool\n",
      "END\n",
      "START\n",
      "118    False\n",
      "Name: GDP_Per_Capita, dtype: bool\n",
      "END\n",
      "START\n",
      "151    False\n",
      "Name: GDP_Per_Capita, dtype: bool\n",
      "END\n",
      "START\n",
      "184    False\n",
      "Name: GDP_Per_Capita, dtype: bool\n",
      "END\n",
      "START\n",
      "217    False\n",
      "Name: GDP_Per_Capita, dtype: bool\n",
      "END\n",
      "START\n",
      "250    False\n",
      "Name: GDP_Per_Capita, dtype: bool\n",
      "END\n",
      "START\n",
      "283    False\n",
      "Name: GDP_Per_Capita, dtype: bool\n",
      "END\n",
      "START\n",
      "316    False\n",
      "Name: GDP_Per_Capita, dtype: bool\n",
      "END\n",
      "START\n",
      "348    False\n",
      "Name: GDP_Per_Capita, dtype: bool\n",
      "END\n",
      "START\n",
      "381    False\n",
      "Name: GDP_Per_Capita, dtype: bool\n",
      "END\n",
      "START\n",
      "414    False\n",
      "Name: GDP_Per_Capita, dtype: bool\n",
      "END\n",
      "START\n",
      "447    False\n",
      "Name: GDP_Per_Capita, dtype: bool\n",
      "END\n",
      "START\n",
      "480    False\n",
      "Name: GDP_Per_Capita, dtype: bool\n",
      "END\n",
      "START\n",
      "513    False\n",
      "Name: GDP_Per_Capita, dtype: bool\n",
      "END\n",
      "START\n",
      "546    True\n",
      "Name: GDP_Per_Capita, dtype: bool\n",
      "END\n",
      "START\n",
      "579    False\n",
      "Name: GDP_Per_Capita, dtype: bool\n",
      "END\n",
      "START\n",
      "612    False\n",
      "Name: GDP_Per_Capita, dtype: bool\n",
      "END\n",
      "START\n",
      "645    False\n",
      "Name: GDP_Per_Capita, dtype: bool\n",
      "END\n",
      "START\n",
      "678    False\n",
      "Name: GDP_Per_Capita, dtype: bool\n",
      "END\n",
      "START\n",
      "711    False\n",
      "Name: GDP_Per_Capita, dtype: bool\n",
      "END\n",
      "START\n",
      "743    False\n",
      "Name: GDP_Per_Capita, dtype: bool\n",
      "END\n",
      "START\n",
      "776    False\n",
      "Name: GDP_Per_Capita, dtype: bool\n",
      "END\n",
      "START\n",
      "Series([], Name: GDP_Per_Capita, dtype: bool)\n",
      "END\n",
      "START\n",
      "838    False\n",
      "Name: GDP_Per_Capita, dtype: bool\n",
      "END\n",
      "START\n",
      "871    False\n",
      "Name: GDP_Per_Capita, dtype: bool\n",
      "END\n",
      "START\n",
      "904    True\n",
      "Name: GDP_Per_Capita, dtype: bool\n",
      "END\n",
      "START\n",
      "937    False\n",
      "Name: GDP_Per_Capita, dtype: bool\n",
      "END\n",
      "START\n",
      "970    False\n",
      "Name: GDP_Per_Capita, dtype: bool\n",
      "END\n",
      "START\n",
      "1003    True\n",
      "Name: GDP_Per_Capita, dtype: bool\n",
      "END\n",
      "START\n",
      "1036    False\n",
      "Name: GDP_Per_Capita, dtype: bool\n",
      "END\n",
      "START\n",
      "1069    False\n",
      "Name: GDP_Per_Capita, dtype: bool\n",
      "END\n",
      "START\n",
      "Series([], Name: GDP_Per_Capita, dtype: bool)\n",
      "END\n",
      "START\n",
      "1132    False\n",
      "Name: GDP_Per_Capita, dtype: bool\n",
      "END\n",
      "START\n",
      "1165    False\n",
      "Name: GDP_Per_Capita, dtype: bool\n",
      "END\n",
      "START\n",
      "1198    False\n",
      "Name: GDP_Per_Capita, dtype: bool\n",
      "END\n",
      "START\n",
      "Series([], Name: GDP_Per_Capita, dtype: bool)\n",
      "END\n",
      "START\n",
      "1247    True\n",
      "Name: GDP_Per_Capita, dtype: bool\n",
      "END\n",
      "START\n",
      "1280    False\n",
      "Name: GDP_Per_Capita, dtype: bool\n",
      "END\n",
      "START\n",
      "1313    False\n",
      "Name: GDP_Per_Capita, dtype: bool\n",
      "END\n",
      "START\n",
      "1346    False\n",
      "Name: GDP_Per_Capita, dtype: bool\n",
      "END\n",
      "START\n",
      "1379    False\n",
      "Name: GDP_Per_Capita, dtype: bool\n",
      "END\n",
      "START\n",
      "1412    False\n",
      "Name: GDP_Per_Capita, dtype: bool\n",
      "END\n",
      "START\n",
      "1445    False\n",
      "Name: GDP_Per_Capita, dtype: bool\n",
      "END\n",
      "START\n",
      "1478    True\n",
      "Name: GDP_Per_Capita, dtype: bool\n",
      "END\n",
      "START\n",
      "1511    False\n",
      "Name: GDP_Per_Capita, dtype: bool\n",
      "END\n",
      "START\n",
      "Series([], Name: GDP_Per_Capita, dtype: bool)\n",
      "END\n",
      "START\n",
      "Series([], Name: GDP_Per_Capita, dtype: bool)\n",
      "END\n",
      "START\n",
      "1594    False\n",
      "Name: GDP_Per_Capita, dtype: bool\n",
      "END\n",
      "START\n",
      "1627    False\n",
      "Name: GDP_Per_Capita, dtype: bool\n",
      "END\n",
      "START\n",
      "1660    True\n",
      "Name: GDP_Per_Capita, dtype: bool\n",
      "END\n",
      "START\n",
      "1693    False\n",
      "Name: GDP_Per_Capita, dtype: bool\n",
      "END\n",
      "START\n",
      "Series([], Name: GDP_Per_Capita, dtype: bool)\n",
      "END\n",
      "START\n",
      "1736    False\n",
      "Name: GDP_Per_Capita, dtype: bool\n",
      "END\n",
      "START\n",
      "1769    False\n",
      "Name: GDP_Per_Capita, dtype: bool\n",
      "END\n",
      "START\n",
      "1802    False\n",
      "Name: GDP_Per_Capita, dtype: bool\n",
      "END\n",
      "START\n",
      "1835    False\n",
      "Name: GDP_Per_Capita, dtype: bool\n",
      "END\n",
      "START\n",
      "1868    False\n",
      "Name: GDP_Per_Capita, dtype: bool\n",
      "END\n",
      "START\n",
      "1901    False\n",
      "Name: GDP_Per_Capita, dtype: bool\n",
      "END\n",
      "START\n",
      "1934    False\n",
      "Name: GDP_Per_Capita, dtype: bool\n",
      "END\n",
      "START\n",
      "1967    False\n",
      "Name: GDP_Per_Capita, dtype: bool\n",
      "END\n",
      "START\n",
      "2000    False\n",
      "Name: GDP_Per_Capita, dtype: bool\n",
      "END\n",
      "START\n",
      "2033    False\n",
      "Name: GDP_Per_Capita, dtype: bool\n",
      "END\n",
      "START\n",
      "Series([], Name: GDP_Per_Capita, dtype: bool)\n",
      "END\n",
      "START\n",
      "2094    False\n",
      "Name: GDP_Per_Capita, dtype: bool\n",
      "END\n",
      "START\n",
      "2127    False\n",
      "Name: GDP_Per_Capita, dtype: bool\n",
      "END\n",
      "START\n",
      "2160    False\n",
      "Name: GDP_Per_Capita, dtype: bool\n",
      "END\n",
      "START\n",
      "2193    False\n",
      "Name: GDP_Per_Capita, dtype: bool\n",
      "END\n",
      "START\n",
      "2226    False\n",
      "Name: GDP_Per_Capita, dtype: bool\n",
      "END\n",
      "START\n",
      "2259    False\n",
      "Name: GDP_Per_Capita, dtype: bool\n",
      "END\n",
      "START\n",
      "2292    False\n",
      "Name: GDP_Per_Capita, dtype: bool\n",
      "END\n",
      "START\n",
      "2325    False\n",
      "Name: GDP_Per_Capita, dtype: bool\n",
      "END\n",
      "START\n",
      "2358    False\n",
      "Name: GDP_Per_Capita, dtype: bool\n",
      "END\n",
      "START\n",
      "2391    True\n",
      "Name: GDP_Per_Capita, dtype: bool\n",
      "END\n",
      "START\n",
      "2424    False\n",
      "Name: GDP_Per_Capita, dtype: bool\n",
      "END\n",
      "START\n",
      "2457    True\n",
      "Name: GDP_Per_Capita, dtype: bool\n",
      "END\n",
      "START\n",
      "2490    False\n",
      "Name: GDP_Per_Capita, dtype: bool\n",
      "END\n",
      "START\n",
      "2523    False\n",
      "Name: GDP_Per_Capita, dtype: bool\n",
      "END\n",
      "START\n",
      "2556    False\n",
      "Name: GDP_Per_Capita, dtype: bool\n",
      "END\n",
      "START\n",
      "2589    False\n",
      "Name: GDP_Per_Capita, dtype: bool\n",
      "END\n",
      "START\n",
      "2622    False\n",
      "Name: GDP_Per_Capita, dtype: bool\n",
      "END\n",
      "START\n",
      "2655    False\n",
      "Name: GDP_Per_Capita, dtype: bool\n",
      "END\n",
      "START\n",
      "2688    False\n",
      "Name: GDP_Per_Capita, dtype: bool\n",
      "END\n",
      "START\n",
      "2721    True\n",
      "Name: GDP_Per_Capita, dtype: bool\n",
      "END\n",
      "START\n",
      "2754    False\n",
      "Name: GDP_Per_Capita, dtype: bool\n",
      "END\n",
      "START\n",
      "2787    True\n",
      "Name: GDP_Per_Capita, dtype: bool\n",
      "END\n",
      "START\n",
      "2820    False\n",
      "Name: GDP_Per_Capita, dtype: bool\n",
      "END\n",
      "START\n",
      "2853    False\n",
      "Name: GDP_Per_Capita, dtype: bool\n",
      "END\n",
      "START\n",
      "2886    False\n",
      "Name: GDP_Per_Capita, dtype: bool\n",
      "END\n",
      "START\n",
      "2919    False\n",
      "Name: GDP_Per_Capita, dtype: bool\n",
      "END\n",
      "START\n",
      "Series([], Name: GDP_Per_Capita, dtype: bool)\n",
      "END\n",
      "START\n",
      "2984    False\n",
      "Name: GDP_Per_Capita, dtype: bool\n",
      "END\n",
      "START\n",
      "Series([], Name: GDP_Per_Capita, dtype: bool)\n",
      "END\n",
      "START\n",
      "3045    False\n",
      "Name: GDP_Per_Capita, dtype: bool\n",
      "END\n",
      "START\n",
      "3078    False\n",
      "Name: GDP_Per_Capita, dtype: bool\n",
      "END\n",
      "START\n",
      "3111    False\n",
      "Name: GDP_Per_Capita, dtype: bool\n",
      "END\n",
      "START\n",
      "3144    False\n",
      "Name: GDP_Per_Capita, dtype: bool\n",
      "END\n",
      "START\n",
      "3177    False\n",
      "Name: GDP_Per_Capita, dtype: bool\n",
      "END\n",
      "START\n",
      "3210    False\n",
      "Name: GDP_Per_Capita, dtype: bool\n",
      "END\n",
      "START\n",
      "3243    False\n",
      "Name: GDP_Per_Capita, dtype: bool\n",
      "END\n",
      "START\n",
      "3276    False\n",
      "Name: GDP_Per_Capita, dtype: bool\n",
      "END\n",
      "START\n",
      "3309    False\n",
      "Name: GDP_Per_Capita, dtype: bool\n",
      "END\n",
      "START\n",
      "Series([], Name: GDP_Per_Capita, dtype: bool)\n",
      "END\n",
      "START\n",
      "3370    False\n",
      "Name: GDP_Per_Capita, dtype: bool\n",
      "END\n",
      "START\n",
      "3403    False\n",
      "Name: GDP_Per_Capita, dtype: bool\n",
      "END\n",
      "START\n",
      "3436    False\n",
      "Name: GDP_Per_Capita, dtype: bool\n",
      "END\n",
      "START\n",
      "3469    False\n",
      "Name: GDP_Per_Capita, dtype: bool\n",
      "END\n",
      "START\n",
      "3502    False\n",
      "Name: GDP_Per_Capita, dtype: bool\n",
      "END\n",
      "START\n",
      "3535    False\n",
      "Name: GDP_Per_Capita, dtype: bool\n",
      "END\n",
      "START\n",
      "3568    True\n",
      "Name: GDP_Per_Capita, dtype: bool\n",
      "END\n",
      "START\n",
      "3601    False\n",
      "Name: GDP_Per_Capita, dtype: bool\n",
      "END\n",
      "START\n",
      "Series([], Name: GDP_Per_Capita, dtype: bool)\n",
      "END\n",
      "START\n",
      "Series([], Name: GDP_Per_Capita, dtype: bool)\n",
      "END\n",
      "START\n",
      "3680    True\n",
      "Name: GDP_Per_Capita, dtype: bool\n",
      "END\n",
      "START\n",
      "3713    False\n",
      "Name: GDP_Per_Capita, dtype: bool\n",
      "END\n",
      "START\n",
      "3746    False\n",
      "Name: GDP_Per_Capita, dtype: bool\n",
      "END\n",
      "START\n",
      "3779    False\n",
      "Name: GDP_Per_Capita, dtype: bool\n",
      "END\n",
      "START\n",
      "3812    False\n",
      "Name: GDP_Per_Capita, dtype: bool\n",
      "END\n",
      "START\n",
      "3845    False\n",
      "Name: GDP_Per_Capita, dtype: bool\n",
      "END\n",
      "START\n",
      "Series([], Name: GDP_Per_Capita, dtype: bool)\n",
      "END\n",
      "START\n",
      "3906    False\n",
      "Name: GDP_Per_Capita, dtype: bool\n",
      "END\n",
      "START\n",
      "3938    False\n",
      "Name: GDP_Per_Capita, dtype: bool\n",
      "END\n",
      "START\n",
      "3971    False\n",
      "Name: GDP_Per_Capita, dtype: bool\n",
      "END\n",
      "START\n",
      "Series([], Name: GDP_Per_Capita, dtype: bool)\n",
      "END\n",
      "START\n",
      "Series([], Name: GDP_Per_Capita, dtype: bool)\n",
      "END\n",
      "START\n",
      "Series([], Name: GDP_Per_Capita, dtype: bool)\n",
      "END\n",
      "START\n",
      "4079    False\n",
      "Name: GDP_Per_Capita, dtype: bool\n",
      "END\n",
      "START\n",
      "4112    False\n",
      "Name: GDP_Per_Capita, dtype: bool\n",
      "END\n",
      "START\n",
      "4145    False\n",
      "Name: GDP_Per_Capita, dtype: bool\n",
      "END\n",
      "START\n",
      "4178    False\n",
      "Name: GDP_Per_Capita, dtype: bool\n",
      "END\n",
      "START\n",
      "4211    False\n",
      "Name: GDP_Per_Capita, dtype: bool\n",
      "END\n",
      "START\n",
      "4244    True\n",
      "Name: GDP_Per_Capita, dtype: bool\n",
      "END\n",
      "START\n",
      "4277    False\n",
      "Name: GDP_Per_Capita, dtype: bool\n",
      "END\n",
      "START\n",
      "4310    False\n",
      "Name: GDP_Per_Capita, dtype: bool\n",
      "END\n",
      "START\n",
      "Series([], Name: GDP_Per_Capita, dtype: bool)\n",
      "END\n",
      "START\n",
      "4371    False\n",
      "Name: GDP_Per_Capita, dtype: bool\n",
      "END\n",
      "START\n",
      "4404    False\n",
      "Name: GDP_Per_Capita, dtype: bool\n",
      "END\n",
      "START\n",
      "4437    False\n",
      "Name: GDP_Per_Capita, dtype: bool\n",
      "END\n",
      "START\n",
      "4470    False\n",
      "Name: GDP_Per_Capita, dtype: bool\n",
      "END\n",
      "START\n",
      "4503    False\n",
      "Name: GDP_Per_Capita, dtype: bool\n",
      "END\n",
      "START\n",
      "4536    False\n",
      "Name: GDP_Per_Capita, dtype: bool\n",
      "END\n",
      "START\n",
      "4569    False\n",
      "Name: GDP_Per_Capita, dtype: bool\n",
      "END\n",
      "START\n",
      "4602    False\n",
      "Name: GDP_Per_Capita, dtype: bool\n",
      "END\n",
      "START\n",
      "4635    False\n",
      "Name: GDP_Per_Capita, dtype: bool\n",
      "END\n",
      "START\n",
      "4668    False\n",
      "Name: GDP_Per_Capita, dtype: bool\n",
      "END\n",
      "START\n",
      "4701    False\n",
      "Name: GDP_Per_Capita, dtype: bool\n",
      "END\n",
      "START\n",
      "Series([], Name: GDP_Per_Capita, dtype: bool)\n",
      "END\n",
      "START\n",
      "4762    False\n",
      "Name: GDP_Per_Capita, dtype: bool\n",
      "END\n",
      "START\n",
      "Series([], Name: GDP_Per_Capita, dtype: bool)\n",
      "END\n",
      "START\n",
      "4821    False\n",
      "Name: GDP_Per_Capita, dtype: bool\n",
      "END\n",
      "START\n",
      "4854    False\n",
      "Name: GDP_Per_Capita, dtype: bool\n",
      "END\n",
      "START\n",
      "4887    False\n",
      "Name: GDP_Per_Capita, dtype: bool\n",
      "END\n",
      "START\n",
      "4920    False\n",
      "Name: GDP_Per_Capita, dtype: bool\n",
      "END\n",
      "START\n",
      "Series([], Name: GDP_Per_Capita, dtype: bool)\n",
      "END\n",
      "START\n",
      "4972    False\n",
      "Name: GDP_Per_Capita, dtype: bool\n",
      "END\n",
      "START\n",
      "5005    False\n",
      "Name: GDP_Per_Capita, dtype: bool\n",
      "END\n",
      "START\n",
      "5038    False\n",
      "Name: GDP_Per_Capita, dtype: bool\n",
      "END\n",
      "START\n",
      "5071    False\n",
      "Name: GDP_Per_Capita, dtype: bool\n",
      "END\n",
      "START\n",
      "5104    False\n",
      "Name: GDP_Per_Capita, dtype: bool\n",
      "END\n",
      "START\n",
      "5137    False\n",
      "Name: GDP_Per_Capita, dtype: bool\n",
      "END\n",
      "START\n",
      "5170    False\n",
      "Name: GDP_Per_Capita, dtype: bool\n",
      "END\n",
      "START\n",
      "5203    False\n",
      "Name: GDP_Per_Capita, dtype: bool\n",
      "END\n",
      "START\n",
      "5236    False\n",
      "Name: GDP_Per_Capita, dtype: bool\n",
      "END\n",
      "START\n",
      "5269    False\n",
      "Name: GDP_Per_Capita, dtype: bool\n",
      "END\n",
      "START\n",
      "5302    False\n",
      "Name: GDP_Per_Capita, dtype: bool\n",
      "END\n",
      "START\n",
      "Series([], Name: GDP_Per_Capita, dtype: bool)\n",
      "END\n",
      "START\n",
      "5358    False\n",
      "Name: GDP_Per_Capita, dtype: bool\n",
      "END\n",
      "START\n",
      "5391    False\n",
      "Name: GDP_Per_Capita, dtype: bool\n",
      "END\n",
      "START\n",
      "Series([], Name: GDP_Per_Capita, dtype: bool)\n",
      "END\n",
      "START\n",
      "5446    False\n",
      "Name: GDP_Per_Capita, dtype: bool\n",
      "END\n",
      "START\n",
      "5479    False\n",
      "Name: GDP_Per_Capita, dtype: bool\n",
      "END\n",
      "START\n",
      "5512    False\n",
      "Name: GDP_Per_Capita, dtype: bool\n",
      "END\n",
      "START\n",
      "5545    False\n",
      "Name: GDP_Per_Capita, dtype: bool\n",
      "END\n",
      "START\n",
      "5578    False\n",
      "Name: GDP_Per_Capita, dtype: bool\n",
      "END\n",
      "START\n",
      "5611    False\n",
      "Name: GDP_Per_Capita, dtype: bool\n",
      "END\n",
      "START\n",
      "5644    False\n",
      "Name: GDP_Per_Capita, dtype: bool\n",
      "END\n",
      "START\n",
      "5677    False\n",
      "Name: GDP_Per_Capita, dtype: bool\n",
      "END\n",
      "START\n",
      "5710    False\n",
      "Name: GDP_Per_Capita, dtype: bool\n",
      "END\n",
      "START\n",
      "5743    False\n",
      "Name: GDP_Per_Capita, dtype: bool\n",
      "END\n",
      "START\n",
      "Series([], Name: GDP_Per_Capita, dtype: bool)\n",
      "END\n",
      "START\n",
      "5799    False\n",
      "Name: GDP_Per_Capita, dtype: bool\n",
      "END\n",
      "START\n",
      "5832    False\n",
      "Name: GDP_Per_Capita, dtype: bool\n",
      "END\n",
      "START\n",
      "5865    False\n",
      "Name: GDP_Per_Capita, dtype: bool\n",
      "END\n",
      "START\n",
      "Series([], Name: GDP_Per_Capita, dtype: bool)\n",
      "END\n",
      "START\n",
      "5920    False\n",
      "Name: GDP_Per_Capita, dtype: bool\n",
      "END\n",
      "START\n",
      "Series([], Name: GDP_Per_Capita, dtype: bool)\n",
      "END\n",
      "START\n",
      "5978    False\n",
      "Name: GDP_Per_Capita, dtype: bool\n",
      "END\n",
      "START\n",
      "6011    False\n",
      "Name: GDP_Per_Capita, dtype: bool\n",
      "END\n",
      "START\n",
      "Series([], Name: GDP_Per_Capita, dtype: bool)\n",
      "END\n",
      "START\n",
      "6072    False\n",
      "Name: GDP_Per_Capita, dtype: bool\n",
      "END\n",
      "START\n",
      "6105    False\n",
      "Name: GDP_Per_Capita, dtype: bool\n",
      "END\n",
      "START\n",
      "6138    False\n",
      "Name: GDP_Per_Capita, dtype: bool\n",
      "END\n",
      "START\n",
      "Series([], Name: GDP_Per_Capita, dtype: bool)\n",
      "END\n",
      "START\n",
      "Series([], Name: GDP_Per_Capita, dtype: bool)\n",
      "END\n",
      "START\n",
      "Series([], Name: GDP_Per_Capita, dtype: bool)\n",
      "END\n",
      "START\n",
      "Series([], Name: GDP_Per_Capita, dtype: bool)\n",
      "END\n",
      "START\n",
      "6270    False\n",
      "Name: GDP_Per_Capita, dtype: bool\n",
      "END\n",
      "START\n",
      "Series([], Name: GDP_Per_Capita, dtype: bool)\n",
      "END\n",
      "START\n",
      "6313    False\n",
      "Name: GDP_Per_Capita, dtype: bool\n",
      "END\n",
      "START\n",
      "6346    False\n",
      "Name: GDP_Per_Capita, dtype: bool\n",
      "END\n",
      "START\n",
      "6379    False\n",
      "Name: GDP_Per_Capita, dtype: bool\n",
      "END\n",
      "START\n",
      "6412    False\n",
      "Name: GDP_Per_Capita, dtype: bool\n",
      "END\n",
      "START\n",
      "6445    False\n",
      "Name: GDP_Per_Capita, dtype: bool\n",
      "END\n",
      "START\n",
      "6478    False\n",
      "Name: GDP_Per_Capita, dtype: bool\n",
      "END\n",
      "START\n",
      "6511    False\n",
      "Name: GDP_Per_Capita, dtype: bool\n",
      "END\n",
      "START\n",
      "6544    False\n",
      "Name: GDP_Per_Capita, dtype: bool\n",
      "END\n",
      "START\n",
      "6577    False\n",
      "Name: GDP_Per_Capita, dtype: bool\n",
      "END\n",
      "START\n",
      "6610    False\n",
      "Name: GDP_Per_Capita, dtype: bool\n",
      "END\n",
      "START\n",
      "6643    False\n",
      "Name: GDP_Per_Capita, dtype: bool\n",
      "END\n",
      "START\n",
      "6676    False\n",
      "Name: GDP_Per_Capita, dtype: bool\n",
      "END\n",
      "START\n",
      "6709    False\n",
      "Name: GDP_Per_Capita, dtype: bool\n",
      "END\n",
      "START\n",
      "6742    False\n",
      "Name: GDP_Per_Capita, dtype: bool\n",
      "END\n",
      "START\n",
      "6775    False\n",
      "Name: GDP_Per_Capita, dtype: bool\n",
      "END\n",
      "START\n",
      "6808    False\n",
      "Name: GDP_Per_Capita, dtype: bool\n",
      "END\n",
      "START\n",
      "6841    True\n",
      "Name: GDP_Per_Capita, dtype: bool\n",
      "END\n",
      "START\n",
      "6874    False\n",
      "Name: GDP_Per_Capita, dtype: bool\n",
      "END\n",
      "START\n",
      "6907    False\n",
      "Name: GDP_Per_Capita, dtype: bool\n",
      "END\n",
      "START\n",
      "6940    True\n",
      "Name: GDP_Per_Capita, dtype: bool\n",
      "END\n",
      "START\n",
      "6973    True\n",
      "Name: GDP_Per_Capita, dtype: bool\n",
      "END\n",
      "START\n",
      "Series([], Name: GDP_Per_Capita, dtype: bool)\n",
      "END\n",
      "START\n",
      "7029    False\n",
      "Name: GDP_Per_Capita, dtype: bool\n",
      "END\n",
      "START\n",
      "7061    False\n",
      "Name: GDP_Per_Capita, dtype: bool\n",
      "END\n",
      "START\n",
      "7094    False\n",
      "Name: GDP_Per_Capita, dtype: bool\n",
      "END\n",
      "START\n",
      "7127    False\n",
      "Name: GDP_Per_Capita, dtype: bool\n",
      "END\n",
      "START\n",
      "7158    False\n",
      "Name: GDP_Per_Capita, dtype: bool\n",
      "END\n",
      "START\n",
      "Series([], Name: GDP_Per_Capita, dtype: bool)\n",
      "END\n",
      "START\n",
      "7203    False\n",
      "Name: GDP_Per_Capita, dtype: bool\n",
      "END\n",
      "START\n",
      "7236    False\n",
      "Name: GDP_Per_Capita, dtype: bool\n",
      "END\n",
      "START\n",
      "7269    True\n",
      "Name: GDP_Per_Capita, dtype: bool\n",
      "END\n",
      "START\n",
      "7302    True\n",
      "Name: GDP_Per_Capita, dtype: bool\n",
      "END\n",
      "START\n",
      "7335    False\n",
      "Name: GDP_Per_Capita, dtype: bool\n",
      "END\n",
      "START\n",
      "7368    False\n",
      "Name: GDP_Per_Capita, dtype: bool\n",
      "END\n",
      "START\n",
      "7401    False\n",
      "Name: GDP_Per_Capita, dtype: bool\n",
      "END\n",
      "START\n",
      "7434    False\n",
      "Name: GDP_Per_Capita, dtype: bool\n",
      "END\n",
      "START\n",
      "7467    False\n",
      "Name: GDP_Per_Capita, dtype: bool\n",
      "END\n",
      "START\n",
      "7500    False\n",
      "Name: GDP_Per_Capita, dtype: bool\n",
      "END\n",
      "START\n",
      "7533    False\n",
      "Name: GDP_Per_Capita, dtype: bool\n",
      "END\n",
      "START\n",
      "Series([], Name: GDP_Per_Capita, dtype: bool)\n",
      "END\n",
      "START\n",
      "7595    False\n",
      "Name: GDP_Per_Capita, dtype: bool\n",
      "END\n",
      "START\n",
      "7628    False\n",
      "Name: GDP_Per_Capita, dtype: bool\n",
      "END\n",
      "START\n",
      "7661    True\n",
      "Name: GDP_Per_Capita, dtype: bool\n",
      "END\n"
     ]
    }
   ],
   "source": [
    "for index, row in gdp_2020.iterrows():\n",
    "    print('START')\n",
    "    print((row['GDP_Per_Capita'] < gdp_1990.loc[gdp_1990['Country'] == row['Country']]['GDP_Per_Capita']))\n",
    "    print('END')"
   ]
  },
  {
   "cell_type": "markdown",
   "id": "9cd23af2-1be6-47dc-b349-d95d2617b308",
   "metadata": {},
   "source": [
    "# 14) Read in the internet use dataset into a DataFrame named internet_df. You will likely get errors when doing this. Check the arguments for the read_csv function to find ones that can help correct the errors (https://pandas.pydata.org/docs/reference/api/pandas.read_csv.html) Once you are able to read it in, take per a look at the top and bottom few rows to make sure that it has been read in correctly. Also, check the datatypes of the columns."
   ]
  },
  {
   "cell_type": "code",
   "execution_count": 148,
   "id": "03ba06a0-e3c5-4b92-a127-edd7bb905b54",
   "metadata": {},
   "outputs": [],
   "source": [
    "internet_df = pd.read_csv('../data/internet_use.csv', nrows=4495)"
   ]
  },
  {
   "cell_type": "code",
   "execution_count": 156,
   "id": "617dee5f-118f-40c8-9f0a-2b12bba0e553",
   "metadata": {},
   "outputs": [
    {
     "name": "stdout",
     "output_type": "stream",
     "text": [
      "<class 'pandas.core.frame.DataFrame'>\n",
      "RangeIndex: 4495 entries, 0 to 4494\n",
      "Data columns (total 4 columns):\n",
      " #   Column           Non-Null Count  Dtype  \n",
      "---  ------           --------------  -----  \n",
      " 0   Country or Area  4495 non-null   object \n",
      " 1   Year             4495 non-null   int64  \n",
      " 2   Value            4495 non-null   float64\n",
      " 3   Value Footnotes  948 non-null    float64\n",
      "dtypes: float64(2), int64(1), object(1)\n",
      "memory usage: 140.6+ KB\n"
     ]
    }
   ],
   "source": [
    "internet_df.info()"
   ]
  },
  {
   "cell_type": "markdown",
   "id": "6bd17234-7052-4a76-ac6d-c1b2b6461cdd",
   "metadata": {},
   "source": [
    "# 15) Drop the Value Footnotes column and rename the remaining three to 'Country', 'Year', and 'Internet_Users_Pct'."
   ]
  },
  {
   "cell_type": "code",
   "execution_count": 157,
   "id": "b57eaacd-a526-4c0a-9b9a-913098379b1c",
   "metadata": {},
   "outputs": [
    {
     "data": {
      "text/html": [
       "<div>\n",
       "<style scoped>\n",
       "    .dataframe tbody tr th:only-of-type {\n",
       "        vertical-align: middle;\n",
       "    }\n",
       "\n",
       "    .dataframe tbody tr th {\n",
       "        vertical-align: top;\n",
       "    }\n",
       "\n",
       "    .dataframe thead th {\n",
       "        text-align: right;\n",
       "    }\n",
       "</style>\n",
       "<table border=\"1\" class=\"dataframe\">\n",
       "  <thead>\n",
       "    <tr style=\"text-align: right;\">\n",
       "      <th></th>\n",
       "      <th>Country</th>\n",
       "      <th>Year</th>\n",
       "      <th>Internet_Users_Pct</th>\n",
       "    </tr>\n",
       "  </thead>\n",
       "  <tbody>\n",
       "    <tr>\n",
       "      <th>0</th>\n",
       "      <td>Afghanistan</td>\n",
       "      <td>2014</td>\n",
       "      <td>6.390000</td>\n",
       "    </tr>\n",
       "    <tr>\n",
       "      <th>1</th>\n",
       "      <td>Afghanistan</td>\n",
       "      <td>2013</td>\n",
       "      <td>5.900000</td>\n",
       "    </tr>\n",
       "    <tr>\n",
       "      <th>2</th>\n",
       "      <td>Afghanistan</td>\n",
       "      <td>2012</td>\n",
       "      <td>5.454545</td>\n",
       "    </tr>\n",
       "    <tr>\n",
       "      <th>3</th>\n",
       "      <td>Afghanistan</td>\n",
       "      <td>2011</td>\n",
       "      <td>5.000000</td>\n",
       "    </tr>\n",
       "    <tr>\n",
       "      <th>4</th>\n",
       "      <td>Afghanistan</td>\n",
       "      <td>2010</td>\n",
       "      <td>4.000000</td>\n",
       "    </tr>\n",
       "  </tbody>\n",
       "</table>\n",
       "</div>"
      ],
      "text/plain": [
       "       Country  Year  Internet_Users_Pct\n",
       "0  Afghanistan  2014            6.390000\n",
       "1  Afghanistan  2013            5.900000\n",
       "2  Afghanistan  2012            5.454545\n",
       "3  Afghanistan  2011            5.000000\n",
       "4  Afghanistan  2010            4.000000"
      ]
     },
     "execution_count": 157,
     "metadata": {},
     "output_type": "execute_result"
    }
   ],
   "source": [
    "internet_df_clean = internet_df.drop('Value Footnotes', axis=1)\n",
    "internet_df_clean = internet_df_clean.rename(columns={'Country or Area': 'Country', 'Value': 'Internet_Users_Pct'})\n",
    "internet_df_clean.head()"
   ]
  },
  {
   "cell_type": "markdown",
   "id": "a99c2b99-e9f8-49ae-88a6-71d2f856dc89",
   "metadata": {},
   "source": [
    "# 16) Look at the number of observations in this dataset per year. What do you notice?"
   ]
  },
  {
   "cell_type": "code",
   "execution_count": 155,
   "id": "ee95165a-9ef2-455e-8402-fbc6420d4a21",
   "metadata": {},
   "outputs": [],
   "source": [
    "# internet_df_clean.groupby('Year').count()"
   ]
  },
  {
   "cell_type": "markdown",
   "id": "19016dc1-754c-4b9e-b054-46c94b75b7ba",
   "metadata": {},
   "source": [
    "##### There is a big spike in 1990 and then a stead climb starting in 1991 through present"
   ]
  },
  {
   "cell_type": "markdown",
   "id": "0545bc16-bbd4-4dc0-a1d1-4aef6c52d6b6",
   "metadata": {},
   "source": [
    "# 17) What is the first year to have a non-zero internet users percentage value?"
   ]
  },
  {
   "cell_type": "code",
   "execution_count": 163,
   "id": "2de5bed5-8539-4d89-880e-eaef266dc9bf",
   "metadata": {},
   "outputs": [
    {
     "data": {
      "text/plain": [
       "1990"
      ]
     },
     "execution_count": 163,
     "metadata": {},
     "output_type": "execute_result"
    }
   ],
   "source": [
    "internet_non_zero = internet_df_clean[internet_df_clean['Internet_Users_Pct'] != 0]\n",
    "internet_non_zero.loc[internet_non_zero['Year'].idxmin()]['Year']"
   ]
  },
  {
   "cell_type": "markdown",
   "id": "d5c5ea79-1d92-4502-aca1-9bb59fc7d9a4",
   "metadata": {},
   "source": [
    "#### 1990 was the first year to have non-zero internet users"
   ]
  },
  {
   "cell_type": "markdown",
   "id": "eca4c26f-d9c0-41c8-9673-6ac1669102cb",
   "metadata": {},
   "source": [
    "# 18) How does the distribution of internet users percent differ for 2000 and 2014?"
   ]
  },
  {
   "cell_type": "code",
   "execution_count": 182,
   "id": "84ca9cf7-0db0-4a82-83dc-9913273490e7",
   "metadata": {},
   "outputs": [
    {
     "data": {
      "text/plain": [
       "<Axes: xlabel='Year', ylabel='Internet_Users_Pct'>"
      ]
     },
     "execution_count": 182,
     "metadata": {},
     "output_type": "execute_result"
    },
    {
     "data": {
      "image/png": "[encoded data removed]",
      "text/plain": [
       "<Figure size 640x480 with 1 Axes>"
      ]
     },
     "metadata": {},
     "output_type": "display_data"
    }
   ],
   "source": [
    "df_2000_2014 = internet_df_clean[(internet_df_clean['Year'] == 2000) | (internet_df_clean['Year'] == 2014)]\n",
    "sns.boxplot(data=df_2000_2014, x='Year', y='Internet_Users_Pct')"
   ]
  },
  {
   "cell_type": "markdown",
   "id": "1260fa63-418d-48bb-959a-ad811044de58",
   "metadata": {},
   "source": [
    "#### Looking at the distributions, we seen that the vast majority of countries in 2014 have more usage than even the top 25% from 2000. "
   ]
  },
  {
   "cell_type": "code",
   "execution_count": null,
   "id": "7247781b-9a15-46d8-a218-417fa55aac55",
   "metadata": {},
   "outputs": [],
   "source": []
  }
 ],
 "metadata": {
  "kernelspec": {
   "display_name": "Python 3 (ipykernel)",
   "language": "python",
   "name": "python3"
  },
  "language_info": {
   "codemirror_mode": {
    "name": "ipython",
    "version": 3
   },
   "file_extension": ".py",
   "mimetype": "text/x-python",
   "name": "python",
   "nbconvert_exporter": "python",
   "pygments_lexer": "ipython3",
   "version": "3.11.7"
  }
 },
 "nbformat": 4,
 "nbformat_minor": 5
}
